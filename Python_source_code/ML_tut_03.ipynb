{
 "cells": [
  {
   "cell_type": "markdown",
   "id": "1d28efd8-e6e2-4160-85db-3f01eaedd2e0",
   "metadata": {},
   "source": [
    "### Name : Anish Kumar Barik\n",
    "### Reg. No. : 24MDT0170\n",
    "### Course Name : Data Mining and Machine Leaning Lab"
   ]
  },
  {
   "cell_type": "code",
   "execution_count": 66,
   "id": "adff3f22-2391-40d5-acaa-ef85f5314cb0",
   "metadata": {},
   "outputs": [
    {
     "data": {
      "text/html": [
       "<div>\n",
       "<style scoped>\n",
       "    .dataframe tbody tr th:only-of-type {\n",
       "        vertical-align: middle;\n",
       "    }\n",
       "\n",
       "    .dataframe tbody tr th {\n",
       "        vertical-align: top;\n",
       "    }\n",
       "\n",
       "    .dataframe thead th {\n",
       "        text-align: right;\n",
       "    }\n",
       "</style>\n",
       "<table border=\"1\" class=\"dataframe\">\n",
       "  <thead>\n",
       "    <tr style=\"text-align: right;\">\n",
       "      <th></th>\n",
       "      <th>price</th>\n",
       "      <th>area</th>\n",
       "      <th>bedrooms</th>\n",
       "      <th>bathrooms</th>\n",
       "      <th>stories</th>\n",
       "      <th>parking</th>\n",
       "      <th>furnishingstatus</th>\n",
       "    </tr>\n",
       "  </thead>\n",
       "  <tbody>\n",
       "    <tr>\n",
       "      <th>0</th>\n",
       "      <td>13300000</td>\n",
       "      <td>7420</td>\n",
       "      <td>4</td>\n",
       "      <td>2</td>\n",
       "      <td>3</td>\n",
       "      <td>2</td>\n",
       "      <td>furnished</td>\n",
       "    </tr>\n",
       "    <tr>\n",
       "      <th>1</th>\n",
       "      <td>12250000</td>\n",
       "      <td>8960</td>\n",
       "      <td>4</td>\n",
       "      <td>4</td>\n",
       "      <td>4</td>\n",
       "      <td>3</td>\n",
       "      <td>furnished</td>\n",
       "    </tr>\n",
       "    <tr>\n",
       "      <th>2</th>\n",
       "      <td>12250000</td>\n",
       "      <td>9960</td>\n",
       "      <td>3</td>\n",
       "      <td>2</td>\n",
       "      <td>2</td>\n",
       "      <td>2</td>\n",
       "      <td>semi-furnished</td>\n",
       "    </tr>\n",
       "    <tr>\n",
       "      <th>3</th>\n",
       "      <td>12215000</td>\n",
       "      <td>7500</td>\n",
       "      <td>4</td>\n",
       "      <td>2</td>\n",
       "      <td>2</td>\n",
       "      <td>3</td>\n",
       "      <td>furnished</td>\n",
       "    </tr>\n",
       "    <tr>\n",
       "      <th>4</th>\n",
       "      <td>11410000</td>\n",
       "      <td>7420</td>\n",
       "      <td>4</td>\n",
       "      <td>1</td>\n",
       "      <td>2</td>\n",
       "      <td>2</td>\n",
       "      <td>furnished</td>\n",
       "    </tr>\n",
       "    <tr>\n",
       "      <th>...</th>\n",
       "      <td>...</td>\n",
       "      <td>...</td>\n",
       "      <td>...</td>\n",
       "      <td>...</td>\n",
       "      <td>...</td>\n",
       "      <td>...</td>\n",
       "      <td>...</td>\n",
       "    </tr>\n",
       "    <tr>\n",
       "      <th>244</th>\n",
       "      <td>4550000</td>\n",
       "      <td>5320</td>\n",
       "      <td>3</td>\n",
       "      <td>1</td>\n",
       "      <td>2</td>\n",
       "      <td>0</td>\n",
       "      <td>semi-furnished</td>\n",
       "    </tr>\n",
       "    <tr>\n",
       "      <th>245</th>\n",
       "      <td>4550000</td>\n",
       "      <td>5360</td>\n",
       "      <td>3</td>\n",
       "      <td>1</td>\n",
       "      <td>2</td>\n",
       "      <td>2</td>\n",
       "      <td>unfurnished</td>\n",
       "    </tr>\n",
       "    <tr>\n",
       "      <th>246</th>\n",
       "      <td>4550000</td>\n",
       "      <td>3520</td>\n",
       "      <td>3</td>\n",
       "      <td>1</td>\n",
       "      <td>1</td>\n",
       "      <td>0</td>\n",
       "      <td>semi-furnished</td>\n",
       "    </tr>\n",
       "    <tr>\n",
       "      <th>247</th>\n",
       "      <td>4550000</td>\n",
       "      <td>8400</td>\n",
       "      <td>4</td>\n",
       "      <td>1</td>\n",
       "      <td>4</td>\n",
       "      <td>3</td>\n",
       "      <td>unfurnished</td>\n",
       "    </tr>\n",
       "    <tr>\n",
       "      <th>248</th>\n",
       "      <td>4543000</td>\n",
       "      <td>4100</td>\n",
       "      <td>2</td>\n",
       "      <td>2</td>\n",
       "      <td>1</td>\n",
       "      <td>0</td>\n",
       "      <td>semi-furnished</td>\n",
       "    </tr>\n",
       "  </tbody>\n",
       "</table>\n",
       "<p>249 rows × 7 columns</p>\n",
       "</div>"
      ],
      "text/plain": [
       "        price  area  bedrooms  bathrooms  stories  parking furnishingstatus\n",
       "0    13300000  7420         4          2        3        2        furnished\n",
       "1    12250000  8960         4          4        4        3        furnished\n",
       "2    12250000  9960         3          2        2        2   semi-furnished\n",
       "3    12215000  7500         4          2        2        3        furnished\n",
       "4    11410000  7420         4          1        2        2        furnished\n",
       "..        ...   ...       ...        ...      ...      ...              ...\n",
       "244   4550000  5320         3          1        2        0   semi-furnished\n",
       "245   4550000  5360         3          1        2        2      unfurnished\n",
       "246   4550000  3520         3          1        1        0   semi-furnished\n",
       "247   4550000  8400         4          1        4        3      unfurnished\n",
       "248   4543000  4100         2          2        1        0   semi-furnished\n",
       "\n",
       "[249 rows x 7 columns]"
      ]
     },
     "execution_count": 66,
     "metadata": {},
     "output_type": "execute_result"
    }
   ],
   "source": [
    "import pandas as pd\n",
    "import numpy as np\n",
    "from sklearn.metrics import mean_squared_error\n",
    "import matplotlib.pyplot as plt\n",
    "data= pd.read_csv(\"Book1.csv\")\n",
    "data\n"
   ]
  },
  {
   "cell_type": "code",
   "execution_count": 67,
   "id": "4f5705e1-0dad-45fb-8b49-64780aeb5042",
   "metadata": {},
   "outputs": [
    {
     "data": {
      "text/html": [
       "<div>\n",
       "<style scoped>\n",
       "    .dataframe tbody tr th:only-of-type {\n",
       "        vertical-align: middle;\n",
       "    }\n",
       "\n",
       "    .dataframe tbody tr th {\n",
       "        vertical-align: top;\n",
       "    }\n",
       "\n",
       "    .dataframe thead th {\n",
       "        text-align: right;\n",
       "    }\n",
       "</style>\n",
       "<table border=\"1\" class=\"dataframe\">\n",
       "  <thead>\n",
       "    <tr style=\"text-align: right;\">\n",
       "      <th></th>\n",
       "      <th>price</th>\n",
       "      <th>area</th>\n",
       "      <th>bedrooms</th>\n",
       "      <th>bathrooms</th>\n",
       "      <th>stories</th>\n",
       "      <th>parking</th>\n",
       "    </tr>\n",
       "  </thead>\n",
       "  <tbody>\n",
       "    <tr>\n",
       "      <th>0</th>\n",
       "      <td>13300000</td>\n",
       "      <td>7420</td>\n",
       "      <td>4</td>\n",
       "      <td>2</td>\n",
       "      <td>3</td>\n",
       "      <td>2</td>\n",
       "    </tr>\n",
       "    <tr>\n",
       "      <th>1</th>\n",
       "      <td>12250000</td>\n",
       "      <td>8960</td>\n",
       "      <td>4</td>\n",
       "      <td>4</td>\n",
       "      <td>4</td>\n",
       "      <td>3</td>\n",
       "    </tr>\n",
       "    <tr>\n",
       "      <th>2</th>\n",
       "      <td>12250000</td>\n",
       "      <td>9960</td>\n",
       "      <td>3</td>\n",
       "      <td>2</td>\n",
       "      <td>2</td>\n",
       "      <td>2</td>\n",
       "    </tr>\n",
       "    <tr>\n",
       "      <th>3</th>\n",
       "      <td>12215000</td>\n",
       "      <td>7500</td>\n",
       "      <td>4</td>\n",
       "      <td>2</td>\n",
       "      <td>2</td>\n",
       "      <td>3</td>\n",
       "    </tr>\n",
       "    <tr>\n",
       "      <th>4</th>\n",
       "      <td>11410000</td>\n",
       "      <td>7420</td>\n",
       "      <td>4</td>\n",
       "      <td>1</td>\n",
       "      <td>2</td>\n",
       "      <td>2</td>\n",
       "    </tr>\n",
       "    <tr>\n",
       "      <th>...</th>\n",
       "      <td>...</td>\n",
       "      <td>...</td>\n",
       "      <td>...</td>\n",
       "      <td>...</td>\n",
       "      <td>...</td>\n",
       "      <td>...</td>\n",
       "    </tr>\n",
       "    <tr>\n",
       "      <th>244</th>\n",
       "      <td>4550000</td>\n",
       "      <td>5320</td>\n",
       "      <td>3</td>\n",
       "      <td>1</td>\n",
       "      <td>2</td>\n",
       "      <td>0</td>\n",
       "    </tr>\n",
       "    <tr>\n",
       "      <th>245</th>\n",
       "      <td>4550000</td>\n",
       "      <td>5360</td>\n",
       "      <td>3</td>\n",
       "      <td>1</td>\n",
       "      <td>2</td>\n",
       "      <td>2</td>\n",
       "    </tr>\n",
       "    <tr>\n",
       "      <th>246</th>\n",
       "      <td>4550000</td>\n",
       "      <td>3520</td>\n",
       "      <td>3</td>\n",
       "      <td>1</td>\n",
       "      <td>1</td>\n",
       "      <td>0</td>\n",
       "    </tr>\n",
       "    <tr>\n",
       "      <th>247</th>\n",
       "      <td>4550000</td>\n",
       "      <td>8400</td>\n",
       "      <td>4</td>\n",
       "      <td>1</td>\n",
       "      <td>4</td>\n",
       "      <td>3</td>\n",
       "    </tr>\n",
       "    <tr>\n",
       "      <th>248</th>\n",
       "      <td>4543000</td>\n",
       "      <td>4100</td>\n",
       "      <td>2</td>\n",
       "      <td>2</td>\n",
       "      <td>1</td>\n",
       "      <td>0</td>\n",
       "    </tr>\n",
       "  </tbody>\n",
       "</table>\n",
       "<p>249 rows × 6 columns</p>\n",
       "</div>"
      ],
      "text/plain": [
       "        price  area  bedrooms  bathrooms  stories  parking\n",
       "0    13300000  7420         4          2        3        2\n",
       "1    12250000  8960         4          4        4        3\n",
       "2    12250000  9960         3          2        2        2\n",
       "3    12215000  7500         4          2        2        3\n",
       "4    11410000  7420         4          1        2        2\n",
       "..        ...   ...       ...        ...      ...      ...\n",
       "244   4550000  5320         3          1        2        0\n",
       "245   4550000  5360         3          1        2        2\n",
       "246   4550000  3520         3          1        1        0\n",
       "247   4550000  8400         4          1        4        3\n",
       "248   4543000  4100         2          2        1        0\n",
       "\n",
       "[249 rows x 6 columns]"
      ]
     },
     "execution_count": 67,
     "metadata": {},
     "output_type": "execute_result"
    }
   ],
   "source": [
    "data=data.drop('furnishingstatus',axis= 1)\n",
    "data\n"
   ]
  },
  {
   "cell_type": "markdown",
   "id": "1182d96d-42cc-40c7-a617-6c60dfa2e7b8",
   "metadata": {},
   "source": [
    "### 3. Use MinMaxScaler() to scale the data to 0 to 1 range.\r"
   ]
  },
  {
   "cell_type": "code",
   "execution_count": 69,
   "id": "801fb8a0-4492-48f2-9333-f911e625825b",
   "metadata": {},
   "outputs": [
    {
     "data": {
      "text/plain": [
       "array([[1.00000000e+00, 3.56776557e-01, 5.00000000e-01, 3.33333333e-01,\n",
       "        6.66666667e-01, 6.66666667e-01],\n",
       "       [8.80095923e-01, 4.69597070e-01, 5.00000000e-01, 1.00000000e+00,\n",
       "        1.00000000e+00, 1.00000000e+00],\n",
       "       [8.80095923e-01, 5.42857143e-01, 2.50000000e-01, 3.33333333e-01,\n",
       "        3.33333333e-01, 6.66666667e-01],\n",
       "       ...,\n",
       "       [7.99360512e-04, 7.10622711e-02, 2.50000000e-01, 0.00000000e+00,\n",
       "        0.00000000e+00, 0.00000000e+00],\n",
       "       [7.99360512e-04, 4.28571429e-01, 5.00000000e-01, 0.00000000e+00,\n",
       "        1.00000000e+00, 1.00000000e+00],\n",
       "       [0.00000000e+00, 1.13553114e-01, 0.00000000e+00, 3.33333333e-01,\n",
       "        0.00000000e+00, 0.00000000e+00]])"
      ]
     },
     "execution_count": 69,
     "metadata": {},
     "output_type": "execute_result"
    }
   ],
   "source": [
    "from sklearn import preprocessing\n",
    "MM = preprocessing.MinMaxScaler()\n",
    "x = MM.fit_transform(data)\n",
    "x"
   ]
  },
  {
   "cell_type": "markdown",
   "id": "d43d9a17-e98a-4536-89ac-9d44c7da9680",
   "metadata": {},
   "source": [
    "### 4. Split the data into training and testing sets using appropriate functions. Use a 80:20 split."
   ]
  },
  {
   "cell_type": "code",
   "execution_count": 71,
   "id": "f61a3b39-7711-4045-83aa-508565ae67de",
   "metadata": {},
   "outputs": [],
   "source": [
    "Y = x[:,0]\n",
    "X = x[:,1:]\n",
    "from sklearn.model_selection import train_test_split\n",
    "Xtrain,Xtest,ytrain,ytest=train_test_split(X,Y,test_size=0.20,random_state=0)\n"
   ]
  },
  {
   "cell_type": "markdown",
   "id": "8c62041f-0d76-407d-a3e2-e2dd92f0385f",
   "metadata": {},
   "source": [
    "### 5. Import LinearRegression from sklearn and fit the data to find parameters.\n"
   ]
  },
  {
   "cell_type": "code",
   "execution_count": 73,
   "id": "019af74b-ac28-4538-9cc4-fb5ec89a7361",
   "metadata": {},
   "outputs": [
    {
     "name": "stdout",
     "output_type": "stream",
     "text": [
      "The testing error is 0.020077937566470735\n",
      "Intercept is :  -0.0612118378671857\n",
      "All the parameters of the model are:  [0.32033532 0.09007501 0.3199135  0.13202285 0.14958391]\n"
     ]
    }
   ],
   "source": [
    "from sklearn.linear_model import LinearRegression\n",
    "reg= LinearRegression()\n",
    "reg.fit(Xtrain,ytrain)\n",
    "m=reg.intercept_\n",
    "n=reg.coef_\n",
    "print(\"The testing error is\",mean_squared_error(reg.predict(Xtest),ytest))\n",
    "print(\"Intercept is : \",m)\n",
    "print(\"All the parameters of the model are: \",n)"
   ]
  },
  {
   "cell_type": "markdown",
   "id": "bac657cd-95bf-43e8-887d-c3cd10b12802",
   "metadata": {},
   "source": [
    "### Q2. Write appropriate gradient descent algorithm and determine the values of the parameters involved in the prediction function."
   ]
  },
  {
   "cell_type": "code",
   "execution_count": 75,
   "id": "b7e0a4ea-5a7f-4a4b-bbb0-4488cce51198",
   "metadata": {},
   "outputs": [
    {
     "data": {
      "text/plain": [
       "array([[1.        , 0.05054945, 0.5       , 0.        , 0.66666667,\n",
       "        0.33333333],\n",
       "       [1.        , 0.15018315, 0.25      , 0.33333333, 0.33333333,\n",
       "        0.66666667],\n",
       "       [1.        , 0.27472527, 0.25      , 0.        , 0.        ,\n",
       "        0.66666667],\n",
       "       ...,\n",
       "       [1.        , 0.08424908, 0.5       , 0.        , 0.33333333,\n",
       "        0.        ],\n",
       "       [1.        , 0.2967033 , 0.25      , 0.        , 1.        ,\n",
       "        1.        ],\n",
       "       [1.        , 0.42857143, 0.25      , 0.        , 0.33333333,\n",
       "        0.66666667]])"
      ]
     },
     "execution_count": 75,
     "metadata": {},
     "output_type": "execute_result"
    }
   ],
   "source": [
    "import numpy as np\n",
    "z = np.ones(len(Xtrain))\n",
    "new_X_train = np.concatenate((np.array(z)[:, np.newaxis], Xtrain), axis=1)\n",
    "new_X_train\n"
   ]
  },
  {
   "cell_type": "code",
   "execution_count": 76,
   "id": "0eb751a1-0a34-4553-b007-4ca33a63331d",
   "metadata": {},
   "outputs": [
    {
     "name": "stdout",
     "output_type": "stream",
     "text": [
      "[-0.06121184  0.32033532  0.09007501  0.3199135   0.13202285  0.14958391]\n"
     ]
    }
   ],
   "source": [
    "def gd(data,yt,parameters,lrate):\n",
    "    slopes = np.zeros(6)\n",
    "    for j in range(len(data)):\n",
    "        for k in range(6):\n",
    "            slopes[k]+= (1/len(data))*((data[j]*parameters).sum()-yt[j])*data[j][k]\n",
    "    parameters = parameters-lrate*slopes\n",
    "    return parameters\n",
    "parameters = np.zeros(6)\n",
    "lrate = 0.9\n",
    "iter_value = 1500\n",
    "for i in range(iter_value):\n",
    "    parameters = gd(new_X_train,ytrain,parameters,lrate)\n",
    "print(parameters)\n"
   ]
  },
  {
   "cell_type": "markdown",
   "id": "80f619dd-37db-4d77-a691-71623020c254",
   "metadata": {},
   "source": [
    "### Q3. Implement the Linear regression problem for Trainingsetheights200 dataset using stochastic gradient descent and mini batchgradient descent and present the results and plots of your model. Also find the testing error in both the cases."
   ]
  },
  {
   "cell_type": "code",
   "execution_count": 78,
   "id": "ed52d9e7-26fd-4867-a59c-95b65405de23",
   "metadata": {},
   "outputs": [
    {
     "data": {
      "text/html": [
       "<div>\n",
       "<style scoped>\n",
       "    .dataframe tbody tr th:only-of-type {\n",
       "        vertical-align: middle;\n",
       "    }\n",
       "\n",
       "    .dataframe tbody tr th {\n",
       "        vertical-align: top;\n",
       "    }\n",
       "\n",
       "    .dataframe thead th {\n",
       "        text-align: right;\n",
       "    }\n",
       "</style>\n",
       "<table border=\"1\" class=\"dataframe\">\n",
       "  <thead>\n",
       "    <tr style=\"text-align: right;\">\n",
       "      <th></th>\n",
       "      <th>Height</th>\n",
       "      <th>Weight</th>\n",
       "    </tr>\n",
       "  </thead>\n",
       "  <tbody>\n",
       "    <tr>\n",
       "      <th>0</th>\n",
       "      <td>127.8296</td>\n",
       "      <td>67.63371</td>\n",
       "    </tr>\n",
       "    <tr>\n",
       "      <th>1</th>\n",
       "      <td>123.4114</td>\n",
       "      <td>65.95421</td>\n",
       "    </tr>\n",
       "    <tr>\n",
       "      <th>2</th>\n",
       "      <td>134.4043</td>\n",
       "      <td>66.14316</td>\n",
       "    </tr>\n",
       "    <tr>\n",
       "      <th>3</th>\n",
       "      <td>155.9981</td>\n",
       "      <td>73.45251</td>\n",
       "    </tr>\n",
       "    <tr>\n",
       "      <th>4</th>\n",
       "      <td>136.1354</td>\n",
       "      <td>69.30943</td>\n",
       "    </tr>\n",
       "    <tr>\n",
       "      <th>...</th>\n",
       "      <td>...</td>\n",
       "      <td>...</td>\n",
       "    </tr>\n",
       "    <tr>\n",
       "      <th>194</th>\n",
       "      <td>135.2500</td>\n",
       "      <td>68.41222</td>\n",
       "    </tr>\n",
       "    <tr>\n",
       "      <th>195</th>\n",
       "      <td>109.5143</td>\n",
       "      <td>66.49607</td>\n",
       "    </tr>\n",
       "    <tr>\n",
       "      <th>196</th>\n",
       "      <td>139.6043</td>\n",
       "      <td>67.84894</td>\n",
       "    </tr>\n",
       "    <tr>\n",
       "      <th>197</th>\n",
       "      <td>134.3672</td>\n",
       "      <td>67.27839</td>\n",
       "    </tr>\n",
       "    <tr>\n",
       "      <th>198</th>\n",
       "      <td>130.3869</td>\n",
       "      <td>68.48742</td>\n",
       "    </tr>\n",
       "  </tbody>\n",
       "</table>\n",
       "<p>199 rows × 2 columns</p>\n",
       "</div>"
      ],
      "text/plain": [
       "       Height    Weight\n",
       "0    127.8296  67.63371\n",
       "1    123.4114  65.95421\n",
       "2    134.4043  66.14316\n",
       "3    155.9981  73.45251\n",
       "4    136.1354  69.30943\n",
       "..        ...       ...\n",
       "194  135.2500  68.41222\n",
       "195  109.5143  66.49607\n",
       "196  139.6043  67.84894\n",
       "197  134.3672  67.27839\n",
       "198  130.3869  68.48742\n",
       "\n",
       "[199 rows x 2 columns]"
      ]
     },
     "execution_count": 78,
     "metadata": {},
     "output_type": "execute_result"
    }
   ],
   "source": [
    "data1= pd.read_csv(\"Training_set_heights200.csv\")\n",
    "data1\n"
   ]
  },
  {
   "cell_type": "markdown",
   "id": "3ce8c18c-2e86-43db-8581-16c8e288dab7",
   "metadata": {},
   "source": [
    "### 2. Use MinMaxScaler() to scale the data to 0 to 1 range.\n"
   ]
  },
  {
   "cell_type": "code",
   "execution_count": 80,
   "id": "f264182b-cc7b-4536-a71e-33ba53a73a88",
   "metadata": {},
   "outputs": [
    {
     "name": "stdout",
     "output_type": "stream",
     "text": [
      "[[0.55738247 0.53872437]\n",
      " [0.49548119 0.40985671]\n",
      " [0.64949743 0.4243548 ]\n",
      " [0.95203779 0.98519959]\n",
      " [0.67375104 0.66730199]\n",
      " [0.43738377 0.34466862]\n",
      " [0.34908247 0.50992308]\n",
      " [0.60113031 0.68675989]\n",
      " [0.73623936 0.75590033]\n",
      " [0.37092206 0.46972895]\n",
      " [0.46437503 0.39039343]\n",
      " [0.60406131 0.59593869]\n",
      " [0.79874449 0.71333218]\n",
      " [0.47575998 0.35674282]\n",
      " [0.49263425 0.55948975]\n",
      " [0.62913734 0.59716023]\n",
      " [1.         0.60338839]\n",
      " [0.54525776 0.3960699 ]\n",
      " [0.64237588 0.57734553]\n",
      " [0.73658121 0.8075786 ]\n",
      " [0.54945671 0.68787861]\n",
      " [0.75975041 0.65702327]\n",
      " [0.55166617 0.80390401]\n",
      " [0.73663586 0.72803437]\n",
      " [0.34895497 0.56025398]\n",
      " [0.64312404 0.59457137]\n",
      " [0.57725078 0.4842585 ]\n",
      " [0.41982578 0.39622106]\n",
      " [0.60528863 0.44350885]\n",
      " [0.60712822 0.32756095]\n",
      " [0.81467165 0.79411713]\n",
      " [0.38697672 0.18244576]\n",
      " [0.46978589 0.62691681]\n",
      " [0.76756548 0.43440256]\n",
      " [0.48096068 0.57167827]\n",
      " [0.39468531 0.6278859 ]\n",
      " [0.51695651 0.31010646]\n",
      " [0.6818239  0.85938194]\n",
      " [0.41629793 0.45115651]\n",
      " [0.57152048 0.43224569]\n",
      " [0.5441103  0.65371621]\n",
      " [0.55414043 0.50407627]\n",
      " [0.36149018 0.30173141]\n",
      " [0.19914889 0.44000997]\n",
      " [0.53127246 0.77748288]\n",
      " [0.31121343 0.13784965]\n",
      " [0.3777606  0.45147647]\n",
      " [0.62251737 0.48554449]\n",
      " [0.42977745 0.59573229]\n",
      " [0.40259564 0.58968675]\n",
      " [0.60114012 0.69297577]\n",
      " [0.38313784 0.52247147]\n",
      " [0.57182031 0.66102473]\n",
      " [0.7974219  0.55225873]\n",
      " [0.38641349 0.62757822]\n",
      " [0.36282118 0.44235867]\n",
      " [0.54223289 0.69027642]\n",
      " [0.36788458 0.5681817 ]\n",
      " [0.64084173 0.90035641]\n",
      " [0.39221245 0.5202839 ]\n",
      " [0.66611951 0.50415377]\n",
      " [0.89011129 0.85937734]\n",
      " [0.7975606  0.80953905]\n",
      " [0.50349941 0.60002686]\n",
      " [0.46568782 0.36238246]\n",
      " [0.53536633 0.71725231]\n",
      " [0.63261335 0.68251137]\n",
      " [0.44809201 0.45112198]\n",
      " [0.38473223 0.57993133]\n",
      " [0.53808858 0.5218699 ]\n",
      " [0.4484787  0.592825  ]\n",
      " [0.62883892 0.54575358]\n",
      " [0.75883833 0.54421362]\n",
      " [0.63049356 0.54392818]\n",
      " [0.550635   0.2803261 ]\n",
      " [0.65980076 0.72754868]\n",
      " [0.31397631 0.40024016]\n",
      " [0.44047729 0.49177879]\n",
      " [0.58080945 0.52236021]\n",
      " [0.47613826 0.60867814]\n",
      " [0.         0.        ]\n",
      " [0.54415093 0.37853254]\n",
      " [0.77229123 0.50281867]\n",
      " [0.54361433 0.5088128 ]\n",
      " [0.38972418 0.50728895]\n",
      " [0.47704474 0.40391552]\n",
      " [0.28104738 0.56281215]\n",
      " [0.44034979 0.44812415]\n",
      " [0.6831549  0.505284  ]\n",
      " [0.70493846 0.46879515]\n",
      " [0.57991558 0.56227043]\n",
      " [0.47242267 0.47237153]\n",
      " [0.67335454 0.76526136]\n",
      " [0.61626448 0.55572155]\n",
      " [0.27701375 0.41043602]\n",
      " [0.72466106 0.37385203]\n",
      " [0.59573206 0.62964915]\n",
      " [0.53088717 0.5247419 ]\n",
      " [0.72613217 0.73205732]\n",
      " [0.34704674 0.67304598]\n",
      " [0.68607049 0.35128657]\n",
      " [0.66060357 0.60216915]\n",
      " [0.68635911 0.6226138 ]\n",
      " [0.8947866  0.60925361]\n",
      " [0.52100415 0.6457087 ]\n",
      " [0.52001781 0.56767144]\n",
      " [0.72733988 0.60678214]\n",
      " [0.60303294 0.41956993]\n",
      " [0.45703772 0.46135083]\n",
      " [0.75531048 0.64531277]\n",
      " [0.40692349 0.30806545]\n",
      " [0.4647365  0.3748779 ]\n",
      " [0.61539863 0.42737258]\n",
      " [0.77414482 0.56487771]\n",
      " [0.68537277 0.66672498]\n",
      " [0.47600236 0.26702346]\n",
      " [0.45393579 0.43280351]\n",
      " [0.6193622  0.85449732]\n",
      " [0.38492978 0.40747578]\n",
      " [0.24052616 0.51517984]\n",
      " [0.55340768 0.52906409]\n",
      " [0.38917637 0.67365138]\n",
      " [0.67733213 0.90727437]\n",
      " [0.47368082 0.63159425]\n",
      " [0.79361664 0.77769235]\n",
      " [0.3958804  0.4929282 ]\n",
      " [0.79301559 0.71106942]\n",
      " [0.55608229 0.52900577]\n",
      " [0.58324308 0.56610922]\n",
      " [0.30578436 0.19056914]\n",
      " [0.52490048 0.5796973 ]\n",
      " [0.58641506 0.75784006]\n",
      " [0.67078922 0.71414552]\n",
      " [0.39729406 0.60616907]\n",
      " [0.32919733 0.57090253]\n",
      " [0.33686669 0.56829833]\n",
      " [0.70884039 0.69083271]\n",
      " [0.53542658 0.56710441]\n",
      " [0.23474682 0.4668347 ]\n",
      " [0.72931816 0.85877424]\n",
      " [0.39198408 0.36931193]\n",
      " [0.36953642 0.31285569]\n",
      " [0.40916518 0.51888205]\n",
      " [0.75263587 0.67739119]\n",
      " [0.55753798 0.53927222]\n",
      " [0.7036621  0.75737201]\n",
      " [0.43406607 0.42328365]\n",
      " [0.43950916 0.31518137]\n",
      " [0.83074312 0.52240471]\n",
      " [0.60431771 0.97508354]\n",
      " [0.6699738  0.66517197]\n",
      " [0.51615931 0.65844354]\n",
      " [0.60648513 1.        ]\n",
      " [0.73573638 0.61801001]\n",
      " [0.6947416  0.66066717]\n",
      " [0.49305176 0.53802613]\n",
      " [0.43626713 0.32083866]\n",
      " [0.48065245 0.57391495]\n",
      " [0.84112771 0.79509697]\n",
      " [0.51315686 0.58910591]\n",
      " [0.78865692 0.64808271]\n",
      " [0.53834917 0.65186166]\n",
      " [0.25847784 0.54579425]\n",
      " [0.50237716 0.46030884]\n",
      " [0.39510282 0.3802628 ]\n",
      " [0.52689417 0.50628072]\n",
      " [0.46152949 0.81846272]\n",
      " [0.65871215 0.51378949]\n",
      " [0.65752686 0.7219405 ]\n",
      " [0.54538245 0.58564002]\n",
      " [0.33311327 0.27899944]\n",
      " [0.40551544 0.59552665]\n",
      " [0.60759757 0.3739019 ]\n",
      " [0.49741324 0.4323815 ]\n",
      " [0.63077797 0.52330245]\n",
      " [0.64412439 0.59980664]\n",
      " [0.45195471 0.62875832]\n",
      " [0.6839605  0.45083731]\n",
      " [0.39480299 0.67601696]\n",
      " [0.56536426 0.73624753]\n",
      " [0.47251654 0.4645543 ]\n",
      " [0.4342356  0.29095087]\n",
      " [0.55904972 0.56246303]\n",
      " [0.39843592 0.59676968]\n",
      " [0.74898753 0.95526731]\n",
      " [0.32187123 0.57119794]\n",
      " [0.38659003 0.38854962]\n",
      " [0.40950423 0.44987666]\n",
      " [0.31715389 0.62665362]\n",
      " [0.44446048 0.59272372]\n",
      " [0.67521654 0.58838388]\n",
      " [0.76691119 0.78852276]\n",
      " [0.63220004 0.51865723]\n",
      " [0.2677598  0.44720569]\n",
      " [0.66134613 0.59845927]\n",
      " [0.30077559 0.4514335 ]\n",
      " [0.72235213 0.55523892]\n",
      " [0.64897764 0.51146074]\n",
      " [0.59321157 0.60422935]]\n"
     ]
    }
   ],
   "source": [
    "from sklearn import preprocessing\n",
    "MM1 = preprocessing.MinMaxScaler()\n",
    "x1 = MM1.fit_transform(data1)\n",
    "print(x1)\n"
   ]
  },
  {
   "cell_type": "markdown",
   "id": "70dbac01-d963-46d7-bd1b-b9dd46b43986",
   "metadata": {},
   "source": [
    "### 3. Split the data into training and testing sets using appropriate functions. Use a 70:30 split."
   ]
  },
  {
   "cell_type": "code",
   "execution_count": 82,
   "id": "72a7286d-ab2f-42db-a642-5d16b49d092c",
   "metadata": {},
   "outputs": [],
   "source": [
    "X1 = x1[:,0]\n",
    "Y1 = x1[:,1]\n",
    "from sklearn.model_selection import train_test_split\n",
    "Xtrain1,Xtest1,ytrain1,ytest1 = train_test_split(X1,Y1,test_size=0.30,\n",
    "random_state=0)"
   ]
  },
  {
   "cell_type": "markdown",
   "id": "a4a12058-18e6-4dba-aedc-2e6694969ad5",
   "metadata": {},
   "source": [
    "### 4. Import LinearRegression from sklearn and fit the data to find intercept and coefficient."
   ]
  },
  {
   "cell_type": "code",
   "execution_count": 84,
   "id": "d1063655-a754-4f68-a83d-2b61e5806d87",
   "metadata": {},
   "outputs": [
    {
     "name": "stdout",
     "output_type": "stream",
     "text": [
      "Intercept is :  0.3142468206485475\n",
      "Coefficient is :  0.4153220879422849\n"
     ]
    }
   ],
   "source": [
    "from sklearn.linear_model import LinearRegression\n",
    "reg= LinearRegression()\n",
    "reg.fit(Xtrain1.reshape(-1,1),ytrain1)\n",
    "ml=reg.intercept_\n",
    "nl=reg.coef_[0]\n",
    "print(\"Intercept is : \",ml)\n",
    "print(\"Coefficient is : \",nl)\n"
   ]
  },
  {
   "cell_type": "markdown",
   "id": "cd9e3d0c-61b6-41b2-b31b-efaa17c80d72",
   "metadata": {},
   "source": [
    "### 5. Find parameters using stochastic gradient descent as well as mini batch gradient descent.\n"
   ]
  },
  {
   "cell_type": "code",
   "execution_count": 86,
   "id": "0862944c-5740-4ee0-af22-6f26943b8ac0",
   "metadata": {},
   "outputs": [
    {
     "name": "stdout",
     "output_type": "stream",
     "text": [
      "SGD Results:  0.31179824162844677 0.16434404443412448\n",
      "Mini-Batch GD Results:  0.41316433096775884 0.3208603158687665\n"
     ]
    }
   ],
   "source": [
    "import random\n",
    "def gradient_descent(xt, yt, m_b, n_b, L, epochs, batch_size=None, mode=\"full\"):\n",
    "    for epoch in range(epochs):\n",
    "        if mode == \"stochastic\":\n",
    "            i = random.randint(0, len(xt) - 1) # Randomly pick a single data point\n",
    "            D_m = 2 * ((m_b * xt[i] + n_b - yt[i]) * xt[i])\n",
    "            D_n = 2 * (m_b * xt[i] + n_b - yt[i])\n",
    "            m_b -= L * D_m\n",
    "            n_b -= L * D_n\n",
    "        elif mode == \"mini-batch\":\n",
    "            batch_indices = random.sample(range(len(xt)), batch_size) # Randomly select 30 points\n",
    "            D_m = 0\n",
    "            D_n = 0\n",
    "            for i in batch_indices:\n",
    "                D_m += (2 / batch_size) * ((m_b * xt[i] + n_b - yt[i]) * xt[i])\n",
    "                D_n += (2 / batch_size) * (m_b * xt[i] + n_b - yt[i])\n",
    "            m_b -= L * D_m\n",
    "            n_b -= L * D_n\n",
    "    return m_b, n_b\n",
    "m = 0\n",
    "n = 0\n",
    "L = 0.5\n",
    "epochs = 900\n",
    "batch_size = 30 # Mini-batch size\n",
    "m_sgd, n_sgd = gradient_descent(Xtrain1, ytrain1, m, n, L, epochs, mode=\"stochastic\")\n",
    "print(\"SGD Results: \", m_sgd, n_sgd)\n",
    "m_mini, n_mini = gradient_descent(Xtrain1, ytrain1, m, n, L, epochs, batch_size=batch_size, mode=\"mini-batch\")\n",
    "print(\"Mini-Batch GD Results: \", m_mini, n_mini)\n"
   ]
  },
  {
   "cell_type": "markdown",
   "id": "c7befb2a-29af-474f-b277-2fb01d635a99",
   "metadata": {},
   "source": [
    "#### 6. Plot for the predicted values in both the cases."
   ]
  },
  {
   "cell_type": "code",
   "execution_count": 88,
   "id": "fd942585-47c5-486f-b38c-fa2898d711cd",
   "metadata": {},
   "outputs": [
    {
     "data": {
      "image/png": "[encoded data removed]",
      "text/plain": [
       "<Figure size 640x480 with 1 Axes>"
      ]
     },
     "metadata": {},
     "output_type": "display_data"
    }
   ],
   "source": [
    "plt.scatter(Xtrain1.reshape(-1,1),ytrain1)\n",
    "ypred1 = m_sgd*Xtrain1+n_sgd\n",
    "ypred2= m_mini*Xtrain1+n_mini\n",
    "plt.plot(Xtrain1,ypred1,label=\"Stochastic Gradient Descent Function\")\n",
    "plt.plot(Xtrain1,ypred2,label=\"Mini Batch Gradient Descent Function\")\n",
    "plt.xlabel(\"Height\")\n",
    "plt.ylabel(\"Weight\")\n",
    "plt.legend()\n",
    "plt.show()\n"
   ]
  },
  {
   "cell_type": "markdown",
   "id": "f4efc0dc-298e-416a-9b8f-02b00de0908d",
   "metadata": {},
   "source": [
    "#### 7. Find the testing error in both the cases."
   ]
  },
  {
   "cell_type": "code",
   "execution_count": 90,
   "id": "ae085b9d-8772-4f61-8990-15ff881f6f6a",
   "metadata": {},
   "outputs": [
    {
     "name": "stdout",
     "output_type": "stream",
     "text": [
      "Testing error for stochastic:  0.09734531081133953\n",
      "Testing error for mini-batch:  0.02707773771867766\n"
     ]
    }
   ],
   "source": [
    "def calculate_error(m, n, Xtest, ytest):\n",
    "    y_pred = m * Xtest + n\n",
    "    return mean_squared_error(ytest, y_pred)\n",
    "testing_error_sgd = calculate_error(m_sgd, n_sgd, Xtest1, ytest1)\n",
    "testing_error_mini = calculate_error(m_mini, n_mini, Xtest1, ytest1)\n",
    "print(\"Testing error for stochastic: \",testing_error_sgd)\n",
    "print(\"Testing error for mini-batch: \",testing_error_mini)\n"
   ]
  },
  {
   "cell_type": "code",
   "execution_count": 91,
   "id": "e02b4f94-fa51-4c6e-b088-9fbfdc0a61d4",
   "metadata": {},
   "outputs": [
    {
     "name": "stdout",
     "output_type": "stream",
     "text": [
      "Training MSE: 0.015123017896174458\n",
      "Testing MSE: 0.031124085897679933\n"
     ]
    }
   ],
   "source": [
    "from sklearn.preprocessing import PolynomialFeatures\n",
    "from sklearn.linear_model import LinearRegression\n",
    "from sklearn.metrics import mean_squared_error\n",
    "Xtrain1_reshaped = Xtrain1.reshape(-1, 1)\n",
    "Xtest1_reshaped = Xtest1.reshape(-1, 1)\n",
    "poly = PolynomialFeatures(degree=3, include_bias=True)\n",
    "X_train_poly = poly.fit_transform(Xtrain1_reshaped)\n",
    "X_test_poly = poly.fit_transform(Xtest1_reshaped)\n",
    "model = LinearRegression()\n",
    "model.fit(X_train_poly, ytrain1)\n",
    "y_train_pred = model.predict(X_train_poly)\n",
    "y_test_pred = model.predict(X_test_poly)\n",
    "train_mse = mean_squared_error(ytrain1, y_train_pred)\n",
    "test_mse = mean_squared_error(ytest1, y_test_pred)\n",
    "print(\"Training MSE:\", train_mse)\n",
    "print(\"Testing MSE:\", test_mse)\n"
   ]
  },
  {
   "cell_type": "code",
   "execution_count": 92,
   "id": "78df02b4-a8a4-4d79-8ec4-544506ffe110",
   "metadata": {},
   "outputs": [
    {
     "name": "stdout",
     "output_type": "stream",
     "text": [
      "Polynomial coefficiants:\n",
      "[ 0.         -0.27208909  0.55389291  0.08276656]\n",
      "Intercept:\n",
      "0.496357248121752\n"
     ]
    }
   ],
   "source": [
    "print(\"Polynomial coefficiants:\")\n",
    "print(model.coef_)\n",
    "print(\"Intercept:\")\n",
    "print(model.intercept_)"
   ]
  },
  {
   "cell_type": "code",
   "execution_count": 96,
   "id": "1629ed98-807d-4679-a25f-9981190f77a2",
   "metadata": {},
   "outputs": [
    {
     "data": {
      "image/png": "[encoded data removed]",
      "text/plain": [
       "<Figure size 640x480 with 1 Axes>"
      ]
     },
     "metadata": {},
     "output_type": "display_data"
    }
   ],
   "source": [
    "X_range=np.linspace(Xtrain1.min(),Xtrain1.max(),100).reshape(-1,1) \n",
    "X_range_poly=poly.transform(X_range) \n",
    "y_range_pred= model.predict(X_range_poly) \n",
    "plt.scatter(Xtrain1,ytrain1,label=\"Training Data\") \n",
    "plt.plot(X_range,y_range_pred,color='r',linewidth=3,label=\"Fitted Polynomial(Degree 3)\") \n",
    "plt.xlabel(\"X_train\")\n",
    "plt.ylabel(\"y_train\")\n",
    "plt.legend() \n",
    "plt.title(\"Polynomial Regression(Degree 3)\")\n",
    "plt.show()"
   ]
  },
  {
   "cell_type": "code",
   "execution_count": null,
   "id": "58b2ea10-e126-4cf7-963e-965e38bc64a3",
   "metadata": {},
   "outputs": [],
   "source": []
  }
 ],
 "metadata": {
  "kernelspec": {
   "display_name": "Python 3 (ipykernel)",
   "language": "python",
   "name": "python3"
  },
  "language_info": {
   "codemirror_mode": {
    "name": "ipython",
    "version": 3
   },
   "file_extension": ".py",
   "mimetype": "text/x-python",
   "name": "python",
   "nbconvert_exporter": "python",
   "pygments_lexer": "ipython3",
   "version": "3.11.7"
  }
 },
 "nbformat": 4,
 "nbformat_minor": 5
}
