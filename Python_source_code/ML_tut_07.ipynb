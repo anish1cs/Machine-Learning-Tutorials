{
 "cells": [
  {
   "cell_type": "markdown",
   "id": "4a844a77-7104-43ca-8910-f148ebdcbf1c",
   "metadata": {},
   "source": [
    "##### Name - Anish Kumar Barik\n",
    "##### Redg.No.-24MDT0170\n",
    "##### Course Name - Data Mining and Machine Learning Lab \n",
    "##### Course code - PMDS505P\n",
    "##### Expt.NO.- 07\n"
   ]
  },
  {
   "cell_type": "code",
   "execution_count": 1,
   "id": "aca67883-8ea2-4ae1-9bd9-2d7a63dc8a79",
   "metadata": {},
   "outputs": [],
   "source": [
    "import warnings\n",
    "warnings.filterwarnings('ignore') \n",
    "import pandas as pd\n",
    "import numpy as np\n",
    "from sklearn.preprocessing import MinMaxScaler\n",
    "from sklearn.linear_model import LogisticRegression \n",
    "from sklearn.tree import DecisionTreeClassifier\n",
    "from sklearn.model_selection import train_test_split \n",
    "from sklearn.metrics import accuracy_score\n",
    "from sklearn.ensemble import BaggingClassifier, RandomForestClassifier, VotingClassifier, AdaBoostClassifier\n"
   ]
  },
  {
   "cell_type": "code",
   "execution_count": 2,
   "id": "e86ed6b6-1217-45be-903a-2919c2a798ab",
   "metadata": {},
   "outputs": [
    {
     "data": {
      "text/html": [
       "<div>\n",
       "<style scoped>\n",
       "    .dataframe tbody tr th:only-of-type {\n",
       "        vertical-align: middle;\n",
       "    }\n",
       "\n",
       "    .dataframe tbody tr th {\n",
       "        vertical-align: top;\n",
       "    }\n",
       "\n",
       "    .dataframe thead th {\n",
       "        text-align: right;\n",
       "    }\n",
       "</style>\n",
       "<table border=\"1\" class=\"dataframe\">\n",
       "  <thead>\n",
       "    <tr style=\"text-align: right;\">\n",
       "      <th></th>\n",
       "      <th>Age</th>\n",
       "      <th>Gender</th>\n",
       "      <th>Total_Bilirubin</th>\n",
       "      <th>Direct_Bilirubin</th>\n",
       "      <th>Alkaline_Phosphotase</th>\n",
       "      <th>Alamine_Aminotransferase</th>\n",
       "      <th>Aspartate_Aminotransferase</th>\n",
       "      <th>Total_Protiens</th>\n",
       "      <th>Albumin</th>\n",
       "      <th>Albumin_and_Globulin_Ratio</th>\n",
       "      <th>liver_disease</th>\n",
       "    </tr>\n",
       "  </thead>\n",
       "  <tbody>\n",
       "    <tr>\n",
       "      <th>0</th>\n",
       "      <td>65</td>\n",
       "      <td>Female</td>\n",
       "      <td>0.7</td>\n",
       "      <td>0.1</td>\n",
       "      <td>187</td>\n",
       "      <td>16</td>\n",
       "      <td>18</td>\n",
       "      <td>6.8</td>\n",
       "      <td>3.3</td>\n",
       "      <td>0.90</td>\n",
       "      <td>1</td>\n",
       "    </tr>\n",
       "    <tr>\n",
       "      <th>1</th>\n",
       "      <td>62</td>\n",
       "      <td>Male</td>\n",
       "      <td>10.9</td>\n",
       "      <td>5.5</td>\n",
       "      <td>699</td>\n",
       "      <td>64</td>\n",
       "      <td>100</td>\n",
       "      <td>7.5</td>\n",
       "      <td>3.2</td>\n",
       "      <td>0.74</td>\n",
       "      <td>1</td>\n",
       "    </tr>\n",
       "    <tr>\n",
       "      <th>2</th>\n",
       "      <td>62</td>\n",
       "      <td>Male</td>\n",
       "      <td>7.3</td>\n",
       "      <td>4.1</td>\n",
       "      <td>490</td>\n",
       "      <td>60</td>\n",
       "      <td>68</td>\n",
       "      <td>7.0</td>\n",
       "      <td>3.3</td>\n",
       "      <td>0.89</td>\n",
       "      <td>1</td>\n",
       "    </tr>\n",
       "    <tr>\n",
       "      <th>3</th>\n",
       "      <td>58</td>\n",
       "      <td>Male</td>\n",
       "      <td>1.0</td>\n",
       "      <td>0.4</td>\n",
       "      <td>182</td>\n",
       "      <td>14</td>\n",
       "      <td>20</td>\n",
       "      <td>6.8</td>\n",
       "      <td>3.4</td>\n",
       "      <td>1.00</td>\n",
       "      <td>1</td>\n",
       "    </tr>\n",
       "    <tr>\n",
       "      <th>4</th>\n",
       "      <td>72</td>\n",
       "      <td>Male</td>\n",
       "      <td>3.9</td>\n",
       "      <td>2.0</td>\n",
       "      <td>195</td>\n",
       "      <td>27</td>\n",
       "      <td>59</td>\n",
       "      <td>7.3</td>\n",
       "      <td>2.4</td>\n",
       "      <td>0.40</td>\n",
       "      <td>1</td>\n",
       "    </tr>\n",
       "  </tbody>\n",
       "</table>\n",
       "</div>"
      ],
      "text/plain": [
       "   Age  Gender  Total_Bilirubin  Direct_Bilirubin  Alkaline_Phosphotase  \\\n",
       "0   65  Female              0.7               0.1                   187   \n",
       "1   62    Male             10.9               5.5                   699   \n",
       "2   62    Male              7.3               4.1                   490   \n",
       "3   58    Male              1.0               0.4                   182   \n",
       "4   72    Male              3.9               2.0                   195   \n",
       "\n",
       "   Alamine_Aminotransferase  Aspartate_Aminotransferase  Total_Protiens  \\\n",
       "0                        16                          18             6.8   \n",
       "1                        64                         100             7.5   \n",
       "2                        60                          68             7.0   \n",
       "3                        14                          20             6.8   \n",
       "4                        27                          59             7.3   \n",
       "\n",
       "   Albumin  Albumin_and_Globulin_Ratio  liver_disease  \n",
       "0      3.3                        0.90              1  \n",
       "1      3.2                        0.74              1  \n",
       "2      3.3                        0.89              1  \n",
       "3      3.4                        1.00              1  \n",
       "4      2.4                        0.40              1  "
      ]
     },
     "execution_count": 2,
     "metadata": {},
     "output_type": "execute_result"
    }
   ],
   "source": [
    "data = pd.read_csv(\"liver_patient.csv\") \n",
    "data.head()"
   ]
  },
  {
   "cell_type": "code",
   "execution_count": 3,
   "id": "6c204f9d-39b7-4234-a8aa-5ed3e33523e9",
   "metadata": {},
   "outputs": [],
   "source": [
    "data = data.drop(columns=['Gender'])"
   ]
  },
  {
   "cell_type": "code",
   "execution_count": 4,
   "id": "e3978a8b-c3b7-43e2-baee-6703977d6148",
   "metadata": {},
   "outputs": [],
   "source": [
    "X = data.iloc[:, :-1]\n",
    "y = data.iloc[:,-1]\n"
   ]
  },
  {
   "cell_type": "markdown",
   "id": "7f546201-bf95-4500-8c77-a170781821b1",
   "metadata": {},
   "source": [
    "#### Perform Min-Max scaling"
   ]
  },
  {
   "cell_type": "code",
   "execution_count": 6,
   "id": "b8d15cec-3275-4aae-b87b-41ee8b07cd8b",
   "metadata": {},
   "outputs": [],
   "source": [
    "scaler = MinMaxScaler()\n",
    "X = scaler.fit_transform(X)\n"
   ]
  },
  {
   "cell_type": "markdown",
   "id": "908694ee-10cf-4478-aea2-e9208357e60e",
   "metadata": {},
   "source": [
    "#### train test split of the data with test size 20 %"
   ]
  },
  {
   "cell_type": "code",
   "execution_count": 8,
   "id": "dfd1f7aa-8d87-4853-97de-71752af65d4f",
   "metadata": {},
   "outputs": [],
   "source": [
    "X_train,X_test,y_train,y_test = train_test_split(X,y,test_size=0.2, random_state=42)"
   ]
  },
  {
   "cell_type": "markdown",
   "id": "cd42228f-3df5-4db3-bcfd-886d6e35afa3",
   "metadata": {},
   "source": [
    "##### Fit the LogisticRegression model fo the training data."
   ]
  },
  {
   "cell_type": "code",
   "execution_count": 10,
   "id": "92ef3337-53c1-4bca-847c-a7c4ab447e45",
   "metadata": {},
   "outputs": [
    {
     "name": "stdout",
     "output_type": "stream",
     "text": [
      "Logistic Regression Accuracy Score is: 0.7435897435897436\n"
     ]
    }
   ],
   "source": [
    "lr = LogisticRegression() \n",
    "lr.fit(X_train,y_train) \n",
    "y_pred = lr.predict(X_test)\n",
    "print(\"Logistic Regression Accuracy Score is:\", accuracy_score(y_test,y_pred))\n"
   ]
  },
  {
   "cell_type": "markdown",
   "id": "1556d74c-a003-42d7-8e28-73cfa34e8259",
   "metadata": {},
   "source": [
    "#### Next for the same data fit a Oec/sion Tree with the same training data and check for the testing accuracy\n"
   ]
  },
  {
   "cell_type": "code",
   "execution_count": 12,
   "id": "c5f5b88d-5d4c-40f6-bf67-d655862b49f0",
   "metadata": {},
   "outputs": [
    {
     "name": "stdout",
     "output_type": "stream",
     "text": [
      "Decision Tree accuracy is:  0.7008547008547008\n"
     ]
    }
   ],
   "source": [
    "dt = DecisionTreeClassifier(random_state=42) \n",
    "dt.fit(X_train,y_train)\n",
    "dt_y_pred = dt.predict(X_test)\n",
    "print(\"Decision Tree accuracy is: \", accuracy_score(y_test, dt_y_pred))\n"
   ]
  },
  {
   "cell_type": "markdown",
   "id": "e5a8ab89-2ea1-4e51-95b3-820d85782398",
   "metadata": {},
   "source": [
    "#### Bagging Classfier and Bagging regressor."
   ]
  },
  {
   "cell_type": "code",
   "execution_count": 14,
   "id": "38cb9729-a0c8-4cfa-a339-ee56632715a6",
   "metadata": {},
   "outputs": [
    {
     "name": "stdout",
     "output_type": "stream",
     "text": [
      "Bagging Classifier Accuracy is:  0.7264957264957265\n"
     ]
    }
   ],
   "source": [
    "BG = BaggingClassifier(n_estimators=100, random_state=0) \n",
    "BG.fit(X_train,y_train)\n",
    "BG_y_pred = BG.predict(X_test)\n",
    "print(\"Bagging Classifier Accuracy is: \",accuracy_score(y_test, BG_y_pred))\n"
   ]
  },
  {
   "cell_type": "code",
   "execution_count": 15,
   "id": "58bdef55-a61f-471a-8aa8-b2771a83f5e8",
   "metadata": {},
   "outputs": [
    {
     "name": "stdout",
     "output_type": "stream",
     "text": [
      "Pasting acuuracy is: 0.6752136752136753\n"
     ]
    }
   ],
   "source": [
    "BG=BaggingClassifier(n_estimators=100, random_state=0, bootstrap=False)\n",
    "BG.fit(X_train,y_train)\n",
    "BG_y_pred = BG.predict(X_test)\n",
    "print(\"Pasting acuuracy is:\", accuracy_score(y_test, BG_y_pred))\n"
   ]
  },
  {
   "cell_type": "code",
   "execution_count": 16,
   "id": "c863ab43-32bd-40cd-acdc-05cfd076e513",
   "metadata": {},
   "outputs": [
    {
     "name": "stdout",
     "output_type": "stream",
     "text": [
      "Random forest classifier accuracy is:  0.7350427350427351\n"
     ]
    }
   ],
   "source": [
    "RFC = RandomForestClassifier(n_estimators=100, max_features=\"sqrt\", random_state=0) \n",
    "RFC.fit(X_train,y_train)\n",
    "rfc_y_pred = RFC.predict(X_test)\n",
    "print(\"Random forest classifier accuracy is: \", accuracy_score(y_test, rfc_y_pred))\n"
   ]
  },
  {
   "cell_type": "code",
   "execution_count": 17,
   "id": "b5394071-38d6-4578-a17e-ac64d1572bf3",
   "metadata": {},
   "outputs": [
    {
     "name": "stdout",
     "output_type": "stream",
     "text": [
      "[0.11935501 0.10094567 0.08816933 0.16130052 0.1333759  0.13239645\n",
      " 0.09378717 0.09781637 0.07285358]\n"
     ]
    }
   ],
   "source": [
    "print(RFC.feature_importances_)"
   ]
  },
  {
   "cell_type": "markdown",
   "id": "e36d6bc7-40cb-4b94-96d3-95f0d8dce86d",
   "metadata": {},
   "source": [
    "##### Q2. Form a synthetic dataset using the make classification class which we have used in the previous labs with two features and 3 classes. Fit the decisiontreecIassfier,baggingclassifier and randomforestclassifier and print the decision boundaries or the different classifiers. Visualizing in the previous case is not possible so we can see how the nonlinear boundaries are getting created in these models except for a linear boundary that we have seen by other classifiers in the previous labs"
   ]
  },
  {
   "cell_type": "code",
   "execution_count": 19,
   "id": "7ebe2ce0-6e1c-4a4a-85c0-5f93a36b1744",
   "metadata": {},
   "outputs": [
    {
     "name": "stdout",
     "output_type": "stream",
     "text": [
      "Accuracy Score of Decision tree classifier is: 0.95\n",
      "Accuracy Score of RandomForestClassifier is:  0.95\n",
      "Accuracy Score of Bagging Classifier is:  0.95\n"
     ]
    }
   ],
   "source": [
    "from sklearn.datasets import make_classification\n",
    "\n",
    "X, y = make_classification(n_classes=3,n_features=2, n_redundant=0, n_clusters_per_class=1, random_state=42)\n",
    "\n",
    "X_train,X_test,y_train,y_test = train_test_split(X,y, test_size=0.2, random_state=42) \n",
    "dtc= DecisionTreeClassifier(random_state=42)\n",
    "dtc.fit(X_train,y_train) \n",
    "dtc_pred = dtc.predict(X_test)\n",
    "\n",
    "print(\"Accuracy Score of Decision tree classifier is:\", accuracy_score(y_test, dtc_pred))\n",
    "\n",
    "rfc= RandomForestClassifier(random_state=42)\n",
    "rfc.fit(X_train,y_train)\n",
    "rfc_pred = rfc.predict(X_test)\n",
    "print(\"Accuracy Score of RandomForestClassifier is: \", accuracy_score(y_test,rfc_pred))\n",
    "\n",
    "bag\t= BaggingClassifier(n_estimators=200,random_state=42) \n",
    "bag.fit(X_train,y_train)\n",
    "bag_pred = bag.predict(X_test)\n",
    "print(\"Accuracy Score of Bagging Classifier is: \", accuracy_score(y_test,bag_pred))\n"
   ]
  },
  {
   "cell_type": "code",
   "execution_count": 20,
   "id": "5ba5ae63-1fa7-40d9-b279-aad48444c68c",
   "metadata": {},
   "outputs": [
    {
     "data": {
      "image/png": "[encoded data removed]",
      "text/plain": [
       "<Figure size 640x480 with 1 Axes>"
      ]
     },
     "metadata": {},
     "output_type": "display_data"
    }
   ],
   "source": [
    "import matplotlib.pyplot as plt\n",
    "\n",
    "x_min, x_max = X[:, 0].min() - 1, X[:, 0].max() + 1\n",
    "y_min, y_max = X[:, 1].min() - 1, X[:, 1].max() + 1\n",
    "xx, yy = np.meshgrid(np.linspace(x_min, x_max, 200),np.linspace(y_min, y_max, 200))\n",
    "\n",
    "Z = dtc.predict(np.c_[xx.ravel(), yy.ravel()]) \n",
    "Z = Z.reshape(xx.shape)\n",
    "\n",
    "plt.contourf(xx, yy, Z, alpha=0.3)\n",
    "scatter = plt.scatter(X[:, 0], X[:, 1], c=y, edgecolor='k') \n",
    "plt.title(\"Decision Boundary of Decision Tree\") \n",
    "plt.xlabel('Feature 1')\n",
    "plt.ylabel('Feature 2') \n",
    "plt.show()\n"
   ]
  },
  {
   "cell_type": "code",
   "execution_count": 21,
   "id": "d81e1343-3b5b-4b36-bdc4-f01c86839a06",
   "metadata": {},
   "outputs": [
    {
     "data": {
      "image/png": "[encoded data removed]",
      "text/plain": [
       "<Figure size 640x480 with 1 Axes>"
      ]
     },
     "metadata": {},
     "output_type": "display_data"
    }
   ],
   "source": [
    "x_min, x_max = X[:, 0].min() - 1, X[:, 0].max() + 1\n",
    "y_min, y_max = X[:, 1].min() - 1, X[:, 1].max() + 1\n",
    "xx, yy = np.meshgrid(np.linspace(x_min, x_max, 200),np.linspace(y_min, y_max, 200))\n",
    "\n",
    "Z = rfc.predict(np.c_[xx.ravel(), yy.ravel()]) \n",
    "Z = Z.reshape(xx.shape)\n",
    "\n",
    "plt.contourf(xx, yy, Z, alpha=0.3)\n",
    "scatter = plt.scatter(X[:, 0], X[:, 1], c=y, edgecolor='k')\n",
    "plt.title('Decision Boundary of Random Forest Classifier') \n",
    "plt.xlabel(\"Feature 1\")\n",
    "plt.ylabel(\"Feature 2\") \n",
    "plt.show()\n"
   ]
  },
  {
   "cell_type": "code",
   "execution_count": 22,
   "id": "8cae6390-94f2-422a-88df-7b2a8bd5c1a9",
   "metadata": {},
   "outputs": [
    {
     "data": {
      "image/png": "[encoded data removed]",
      "text/plain": [
       "<Figure size 640x480 with 1 Axes>"
      ]
     },
     "metadata": {},
     "output_type": "display_data"
    }
   ],
   "source": [
    "x_min, x_max = X[:, 0].min() - 1, X[:, 0].max() + 1\n",
    "y_min, y_max = X[:, 1].min() - 1, X[:, 1].max() + 1\n",
    "xx, yy = np.meshgrid(np.linspace(x_min, x_max, 200),np.linspace(y_min, y_max, 200))\n",
    "\n",
    "Z = bag.predict(np.c_[xx.ravel(), yy.ravel()]) \n",
    "Z = Z.reshape(xx.shape)\n",
    "\n",
    "plt.contourf(xx, yy, Z, alpha=0.3)\n",
    "scatter = plt.scatter(X[:, 0], X[:, 1], c=y, edgecolor='k') \n",
    "plt.title('Decision Boundary of Bagging Classifier') \n",
    "plt.xlabel('Feature 1')\n",
    "plt.ylabel('Feature 2') \n",
    "plt.show()\n"
   ]
  },
  {
   "cell_type": "code",
   "execution_count": 23,
   "id": "9e443e4e-28ec-4e2f-ac94-f62dbd062e6b",
   "metadata": {},
   "outputs": [
    {
     "name": "stdout",
     "output_type": "stream",
     "text": [
      "Voting Classifier Accuracy is:  0.9\n"
     ]
    }
   ],
   "source": [
    "lr_clf = LogisticRegression()\n",
    "sm_clf=LogisticRegression(multi_class='multinomial') \n",
    "rnd_clf = RandomForestClassifier(random_state=0)\n",
    "voting_clf = VotingClassifier(estimators=[('lr', lr_clf), ('rf', rnd_clf), ('sm',sm_clf)], voting='hard') \n",
    "voting_clf.fit(X_train,y_train)\n",
    "voting_y_pred = voting_clf.predict(X_test)\n",
    "print('Voting Classifier Accuracy is: ', accuracy_score(y_test,voting_y_pred))\n"
   ]
  },
  {
   "cell_type": "code",
   "execution_count": 24,
   "id": "eaafacfe-6e68-4cf7-9bec-d4b9c72430c1",
   "metadata": {},
   "outputs": [
    {
     "name": "stdout",
     "output_type": "stream",
     "text": [
      "Voting Classifier Accuracy is:  0.95\n"
     ]
    }
   ],
   "source": [
    "lr_clf = LogisticRegression()\n",
    "sm_clf=LogisticRegression(multi_class='multinomial') \n",
    "rnd_clf = RandomForestClassifier(random_state=0)\n",
    "voting_clf = VotingClassifier(estimators=[('lr', lr_clf), ('rf', rnd_clf), ('sm',sm_clf)], voting=\"soft\") \n",
    "voting_clf.fit(X_train,y_train)\n",
    "voting_y_pred = voting_clf.predict(X_test)\n",
    "print('Voting Classifier Accuracy is: ', accuracy_score(y_test,voting_y_pred))\n"
   ]
  },
  {
   "cell_type": "code",
   "execution_count": 25,
   "id": "d7865377-ec43-4f0c-8ea9-097491925e2c",
   "metadata": {},
   "outputs": [
    {
     "name": "stdout",
     "output_type": "stream",
     "text": [
      "AdaBoost Classifier is:  0.9\n"
     ]
    }
   ],
   "source": [
    "base_estimator = DecisionTreeClassifier(max_depth=1)\n",
    "ABC=AdaBoostClassifier(estimator=base_estimator,n_estimators=500, random_state=42) \n",
    "ABC.fit(X_train,y_train)\n",
    "ABC_pred = ABC.predict(X_test)\n",
    "print('AdaBoost Classifier is: ', accuracy_score(y_test,ABC_pred))\n"
   ]
  },
  {
   "cell_type": "markdown",
   "id": "2e36d0e4-5615-495b-bca5-bc44f3a299a1",
   "metadata": {},
   "source": [
    "##### Next perform hyperparameter tuning using GridSearchCV/'or the random forest classifier with the parameters as max depth, n estimators, min samples leaf with the values given below. you can also try to figure out the maximum accuracy that you can derive using a different parameter grid. Find the best combination of the hyperparameters"
   ]
  },
  {
   "cell_type": "code",
   "execution_count": 27,
   "id": "e93e079b-1bce-4e23-ade7-d5c3247f1666",
   "metadata": {},
   "outputs": [
    {
     "name": "stdout",
     "output_type": "stream",
     "text": [
      "Accuracy Score using GridSearch CV is:  0.95\n",
      "Best Parameter is:  {'max_depth': 3, 'min_samples_leaf': 1, 'n_estimators': 50}\n",
      "Best Cross-Validation Accuracy is:  0.95\n"
     ]
    }
   ],
   "source": [
    "from sklearn.model_selection import GridSearchCV\n",
    "\n",
    "rfc = RandomForestClassifier(random_state=0) \n",
    "param_grid={\n",
    "'n_estimators': [10, 50, 100, 200, 300, 400, 500, 700],\n",
    "'max_depth' : [3,5,7],\n",
    "'min_samples_leaf': [1, 2, 4]\n",
    "}\n",
    "\n",
    "gridsearch=GridSearchCV(estimator=rfc, param_grid=param_grid, cv=5, scoring=\"accuracy\") \n",
    "gridsearch.fit(X_train,y_train)\n",
    "best_parms = gridsearch.best_params_ \n",
    "best_scores = gridsearch.best_score_ \n",
    "best_model = gridsearch.best_estimator_ \n",
    "y_pred = best_model.predict(X_test)\n",
    "print(\"Accuracy Score using GridSearch CV is: \", accuracy_score(y_test,y_pred)) \n",
    "print(\"Best Parameter is: \", best_parms)\n",
    "print(\"Best Cross-Validation Accuracy is: \", best_scores)\n"
   ]
  },
  {
   "cell_type": "markdown",
   "id": "8e64e1a8-0e41-487f-8bd5-9c66b2f618fe",
   "metadata": {},
   "source": [
    "##### Again try to tune the parameters in Adaboostclassifier so that we can get maximum accuracy with the following hyperparameters\n"
   ]
  },
  {
   "cell_type": "code",
   "execution_count": 30,
   "id": "35384e9c-6aa3-44a3-a2d8-e2f64d3ea463",
   "metadata": {},
   "outputs": [
    {
     "name": "stdout",
     "output_type": "stream",
     "text": [
      "Accuracy Score using GridSearch CV is:  0.9\n",
      "Best Parameter is:  {'estimator__max_depth': 1, 'n_estimators': 10}\n",
      "Best Cross-Validation Accuracy is:  0.95\n"
     ]
    }
   ],
   "source": [
    "param_grid={\n",
    "'n_estimators': [10,50, 75,100, 125, 150, 200, 400, 500],\n",
    "'estimator__max_depth' : [1, 2, 3]\n",
    "}\n",
    "base_estimator = DecisionTreeClassifier()\n",
    "abc=AdaBoostClassifier(estimator=base_estimator)\n",
    "gridsearch=GridSearchCV(estimator=abc, param_grid=param_grid, cv=5, scoring=\"accuracy\") \n",
    "gridsearch.fit(X_train,y_train)\n",
    "best_parms = gridsearch.best_params_ \n",
    "best_scores = gridsearch.best_score_ \n",
    "best_model = gridsearch.best_estimator_ \n",
    "y_pred = best_model.predict(X_test)\n",
    "print(\"Accuracy Score using GridSearch CV is: \", accuracy_score(y_test,y_pred))\n",
    "print(\"Best Parameter is: \", best_parms)\n",
    "print(\"Best Cross-Validation Accuracy is: \", best_scores)\n"
   ]
  },
  {
   "cell_type": "markdown",
   "id": "db807741-32ae-4ccf-9c29-9e217cd0c30c",
   "metadata": {},
   "source": [
    "##### Now you can try to fit the multiple regression model, DecisionTreeRegressor, BaggingRegressor, RandomForestRegressor and AdaboostRegressor on the Book1.csv file and use the mean squared error to see how these ensemble models perform compared to the basic models."
   ]
  },
  {
   "cell_type": "code",
   "execution_count": 32,
   "id": "6a477085-8e55-496f-add6-921b18b92ecd",
   "metadata": {},
   "outputs": [
    {
     "data": {
      "text/html": [
       "<div>\n",
       "<style scoped>\n",
       "    .dataframe tbody tr th:only-of-type {\n",
       "        vertical-align: middle;\n",
       "    }\n",
       "\n",
       "    .dataframe tbody tr th {\n",
       "        vertical-align: top;\n",
       "    }\n",
       "\n",
       "    .dataframe thead th {\n",
       "        text-align: right;\n",
       "    }\n",
       "</style>\n",
       "<table border=\"1\" class=\"dataframe\">\n",
       "  <thead>\n",
       "    <tr style=\"text-align: right;\">\n",
       "      <th></th>\n",
       "      <th>price</th>\n",
       "      <th>area</th>\n",
       "      <th>bedrooms</th>\n",
       "      <th>bathrooms</th>\n",
       "      <th>stories</th>\n",
       "      <th>parking</th>\n",
       "      <th>furnishingstatus</th>\n",
       "    </tr>\n",
       "  </thead>\n",
       "  <tbody>\n",
       "    <tr>\n",
       "      <th>0</th>\n",
       "      <td>13300000</td>\n",
       "      <td>7420</td>\n",
       "      <td>4</td>\n",
       "      <td>2</td>\n",
       "      <td>3</td>\n",
       "      <td>2</td>\n",
       "      <td>furnished</td>\n",
       "    </tr>\n",
       "    <tr>\n",
       "      <th>1</th>\n",
       "      <td>12250000</td>\n",
       "      <td>8960</td>\n",
       "      <td>4</td>\n",
       "      <td>4</td>\n",
       "      <td>4</td>\n",
       "      <td>3</td>\n",
       "      <td>furnished</td>\n",
       "    </tr>\n",
       "    <tr>\n",
       "      <th>2</th>\n",
       "      <td>12250000</td>\n",
       "      <td>9960</td>\n",
       "      <td>3</td>\n",
       "      <td>2</td>\n",
       "      <td>2</td>\n",
       "      <td>2</td>\n",
       "      <td>semi-furnished</td>\n",
       "    </tr>\n",
       "    <tr>\n",
       "      <th>3</th>\n",
       "      <td>12215000</td>\n",
       "      <td>7500</td>\n",
       "      <td>4</td>\n",
       "      <td>2</td>\n",
       "      <td>2</td>\n",
       "      <td>3</td>\n",
       "      <td>furnished</td>\n",
       "    </tr>\n",
       "    <tr>\n",
       "      <th>4</th>\n",
       "      <td>11410000</td>\n",
       "      <td>7420</td>\n",
       "      <td>4</td>\n",
       "      <td>1</td>\n",
       "      <td>2</td>\n",
       "      <td>2</td>\n",
       "      <td>furnished</td>\n",
       "    </tr>\n",
       "  </tbody>\n",
       "</table>\n",
       "</div>"
      ],
      "text/plain": [
       "      price  area  bedrooms  bathrooms  stories  parking furnishingstatus\n",
       "0  13300000  7420         4          2        3        2        furnished\n",
       "1  12250000  8960         4          4        4        3        furnished\n",
       "2  12250000  9960         3          2        2        2   semi-furnished\n",
       "3  12215000  7500         4          2        2        3        furnished\n",
       "4  11410000  7420         4          1        2        2        furnished"
      ]
     },
     "execution_count": 32,
     "metadata": {},
     "output_type": "execute_result"
    }
   ],
   "source": [
    "df = pd.read_csv(\"Book1.csv\") \n",
    "df.head()"
   ]
  },
  {
   "cell_type": "code",
   "execution_count": 34,
   "id": "3cd02e83-bbe4-4546-8aa6-9cf1081f8a59",
   "metadata": {},
   "outputs": [],
   "source": [
    "df = df.drop(columns=['furnishingstatus'])"
   ]
  },
  {
   "cell_type": "code",
   "execution_count": 36,
   "id": "3f50af5c-eb89-41b4-bf85-376d962ab648",
   "metadata": {},
   "outputs": [],
   "source": [
    "y = df.iloc[:, :1]\n",
    "X = df.iloc[:,1:]\n"
   ]
  },
  {
   "cell_type": "code",
   "execution_count": 38,
   "id": "e815865c-caa1-4410-820c-0cb25255e8ae",
   "metadata": {},
   "outputs": [],
   "source": [
    "mm = MinMaxScaler()\n",
    "X = mm.fit_transform(X)\n",
    "y = mm.fit_transform(y)\n"
   ]
  },
  {
   "cell_type": "code",
   "execution_count": 40,
   "id": "358994b2-44b1-4423-a5d1-0cb6eaf0082c",
   "metadata": {},
   "outputs": [],
   "source": [
    "X_train,X_test,y_train,y_test = train_test_split(X,y, test_size=0.2, random_state =42)"
   ]
  },
  {
   "cell_type": "code",
   "execution_count": 42,
   "id": "cde8ca6c-94c9-46b0-bf0a-f2ffd7b2c229",
   "metadata": {},
   "outputs": [
    {
     "name": "stdout",
     "output_type": "stream",
     "text": [
      "Mean Squared Error of DecisionTreeRegressor 0.07872770191343151\n",
      "Mean Squared Error of BaggingRegressor 0.03622649067900756\n",
      "Mean Squared Error of RandomForestRegressor 0.03499398677364043\n"
     ]
    }
   ],
   "source": [
    "from sklearn.tree import DecisionTreeRegressor\n",
    "from sklearn.ensemble import BaggingRegressor, RandomForestRegressor \n",
    "from sklearn.metrics import mean_squared_error\n",
    "\n",
    "dtr = DecisionTreeRegressor(random_state=42) \n",
    "dtr.fit(X_train,y_train)\n",
    "dtr_pred = dtr.predict(X_test)\n",
    "\n",
    "bgr\t=BaggingRegressor(n_estimators=100, random_state=42) \n",
    "bgr.fit(X_train,y_train)\n",
    "bgr_pred = bgr.predict(X_test)\n",
    "\n",
    "rfr=RandomForestRegressor(n_estimators=100, random_state=42) \n",
    "rfr.fit(X_train,y_train)\n",
    "rfr_pred = rfr.predict(X_test)\n",
    "\n",
    "print(\"Mean Squared Error of DecisionTreeRegressor\", mean_squared_error(y_test, dtr_pred)) \n",
    "print(\"Mean Squared Error of BaggingRegressor\", mean_squared_error(y_test, bgr_pred)) \n",
    "print(\"Mean Squared Error of RandomForestRegressor\", mean_squared_error(y_test, rfr_pred))\n"
   ]
  },
  {
   "cell_type": "code",
   "execution_count": null,
   "id": "57213834-790e-4c7a-b5ff-a7be77f1832b",
   "metadata": {},
   "outputs": [],
   "source": []
  }
 ],
 "metadata": {
  "kernelspec": {
   "display_name": "Python 3 (ipykernel)",
   "language": "python",
   "name": "python3"
  },
  "language_info": {
   "codemirror_mode": {
    "name": "ipython",
    "version": 3
   },
   "file_extension": ".py",
   "mimetype": "text/x-python",
   "name": "python",
   "nbconvert_exporter": "python",
   "pygments_lexer": "ipython3",
   "version": "3.11.7"
  }
 },
 "nbformat": 4,
 "nbformat_minor": 5
}
