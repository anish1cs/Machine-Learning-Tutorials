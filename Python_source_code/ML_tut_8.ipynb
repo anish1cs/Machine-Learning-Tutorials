{
 "cells": [
  {
   "cell_type": "markdown",
   "id": "05ccc6e6-1dd8-4286-98c7-d118904cbbad",
   "metadata": {},
   "source": [
    "#### Name-Anish Kumar Barik\n",
    "#### Redg.No. - 24MDT0170\n"
   ]
  },
  {
   "cell_type": "code",
   "execution_count": 1,
   "id": "a290cff3-345f-490c-a254-8b7a49acfe98",
   "metadata": {},
   "outputs": [
    {
     "data": {
      "text/html": [
       "<div>\n",
       "<style scoped>\n",
       "    .dataframe tbody tr th:only-of-type {\n",
       "        vertical-align: middle;\n",
       "    }\n",
       "\n",
       "    .dataframe tbody tr th {\n",
       "        vertical-align: top;\n",
       "    }\n",
       "\n",
       "    .dataframe thead th {\n",
       "        text-align: right;\n",
       "    }\n",
       "</style>\n",
       "<table border=\"1\" class=\"dataframe\">\n",
       "  <thead>\n",
       "    <tr style=\"text-align: right;\">\n",
       "      <th></th>\n",
       "      <th>price</th>\n",
       "      <th>area</th>\n",
       "      <th>bedrooms</th>\n",
       "      <th>bathrooms</th>\n",
       "      <th>stories</th>\n",
       "      <th>parking</th>\n",
       "      <th>furnishingstatus</th>\n",
       "    </tr>\n",
       "  </thead>\n",
       "  <tbody>\n",
       "    <tr>\n",
       "      <th>0</th>\n",
       "      <td>13300000</td>\n",
       "      <td>7420</td>\n",
       "      <td>4</td>\n",
       "      <td>2</td>\n",
       "      <td>3</td>\n",
       "      <td>2</td>\n",
       "      <td>furnished</td>\n",
       "    </tr>\n",
       "    <tr>\n",
       "      <th>1</th>\n",
       "      <td>12250000</td>\n",
       "      <td>8960</td>\n",
       "      <td>4</td>\n",
       "      <td>4</td>\n",
       "      <td>4</td>\n",
       "      <td>3</td>\n",
       "      <td>furnished</td>\n",
       "    </tr>\n",
       "    <tr>\n",
       "      <th>2</th>\n",
       "      <td>12250000</td>\n",
       "      <td>9960</td>\n",
       "      <td>3</td>\n",
       "      <td>2</td>\n",
       "      <td>2</td>\n",
       "      <td>2</td>\n",
       "      <td>semi-furnished</td>\n",
       "    </tr>\n",
       "    <tr>\n",
       "      <th>3</th>\n",
       "      <td>12215000</td>\n",
       "      <td>7500</td>\n",
       "      <td>4</td>\n",
       "      <td>2</td>\n",
       "      <td>2</td>\n",
       "      <td>3</td>\n",
       "      <td>furnished</td>\n",
       "    </tr>\n",
       "    <tr>\n",
       "      <th>4</th>\n",
       "      <td>11410000</td>\n",
       "      <td>7420</td>\n",
       "      <td>4</td>\n",
       "      <td>1</td>\n",
       "      <td>2</td>\n",
       "      <td>2</td>\n",
       "      <td>furnished</td>\n",
       "    </tr>\n",
       "    <tr>\n",
       "      <th>...</th>\n",
       "      <td>...</td>\n",
       "      <td>...</td>\n",
       "      <td>...</td>\n",
       "      <td>...</td>\n",
       "      <td>...</td>\n",
       "      <td>...</td>\n",
       "      <td>...</td>\n",
       "    </tr>\n",
       "    <tr>\n",
       "      <th>244</th>\n",
       "      <td>4550000</td>\n",
       "      <td>5320</td>\n",
       "      <td>3</td>\n",
       "      <td>1</td>\n",
       "      <td>2</td>\n",
       "      <td>0</td>\n",
       "      <td>semi-furnished</td>\n",
       "    </tr>\n",
       "    <tr>\n",
       "      <th>245</th>\n",
       "      <td>4550000</td>\n",
       "      <td>5360</td>\n",
       "      <td>3</td>\n",
       "      <td>1</td>\n",
       "      <td>2</td>\n",
       "      <td>2</td>\n",
       "      <td>unfurnished</td>\n",
       "    </tr>\n",
       "    <tr>\n",
       "      <th>246</th>\n",
       "      <td>4550000</td>\n",
       "      <td>3520</td>\n",
       "      <td>3</td>\n",
       "      <td>1</td>\n",
       "      <td>1</td>\n",
       "      <td>0</td>\n",
       "      <td>semi-furnished</td>\n",
       "    </tr>\n",
       "    <tr>\n",
       "      <th>247</th>\n",
       "      <td>4550000</td>\n",
       "      <td>8400</td>\n",
       "      <td>4</td>\n",
       "      <td>1</td>\n",
       "      <td>4</td>\n",
       "      <td>3</td>\n",
       "      <td>unfurnished</td>\n",
       "    </tr>\n",
       "    <tr>\n",
       "      <th>248</th>\n",
       "      <td>4543000</td>\n",
       "      <td>4100</td>\n",
       "      <td>2</td>\n",
       "      <td>2</td>\n",
       "      <td>1</td>\n",
       "      <td>0</td>\n",
       "      <td>semi-furnished</td>\n",
       "    </tr>\n",
       "  </tbody>\n",
       "</table>\n",
       "<p>249 rows × 7 columns</p>\n",
       "</div>"
      ],
      "text/plain": [
       "        price  area  bedrooms  bathrooms  stories  parking furnishingstatus\n",
       "0    13300000  7420         4          2        3        2        furnished\n",
       "1    12250000  8960         4          4        4        3        furnished\n",
       "2    12250000  9960         3          2        2        2   semi-furnished\n",
       "3    12215000  7500         4          2        2        3        furnished\n",
       "4    11410000  7420         4          1        2        2        furnished\n",
       "..        ...   ...       ...        ...      ...      ...              ...\n",
       "244   4550000  5320         3          1        2        0   semi-furnished\n",
       "245   4550000  5360         3          1        2        2      unfurnished\n",
       "246   4550000  3520         3          1        1        0   semi-furnished\n",
       "247   4550000  8400         4          1        4        3      unfurnished\n",
       "248   4543000  4100         2          2        1        0   semi-furnished\n",
       "\n",
       "[249 rows x 7 columns]"
      ]
     },
     "execution_count": 1,
     "metadata": {},
     "output_type": "execute_result"
    }
   ],
   "source": [
    "#Question No: 01\n",
    "import pandas as pd\n",
    "import numpy as np\n",
    "from sklearn.metrics import mean_squared_error\n",
    "import matplotlib.pyplot as plt\n",
    "data=pd.read_csv(\"Book1.csv\")\n",
    "from sklearn import preprocessing\n",
    "data"
   ]
  },
  {
   "cell_type": "code",
   "execution_count": 3,
   "id": "a66e3c32-2a5a-4c0f-b814-13ffc57b2fc4",
   "metadata": {},
   "outputs": [
    {
     "data": {
      "text/html": [
       "<div>\n",
       "<style scoped>\n",
       "    .dataframe tbody tr th:only-of-type {\n",
       "        vertical-align: middle;\n",
       "    }\n",
       "\n",
       "    .dataframe tbody tr th {\n",
       "        vertical-align: top;\n",
       "    }\n",
       "\n",
       "    .dataframe thead th {\n",
       "        text-align: right;\n",
       "    }\n",
       "</style>\n",
       "<table border=\"1\" class=\"dataframe\">\n",
       "  <thead>\n",
       "    <tr style=\"text-align: right;\">\n",
       "      <th></th>\n",
       "      <th>price</th>\n",
       "      <th>area</th>\n",
       "      <th>bedrooms</th>\n",
       "      <th>bathrooms</th>\n",
       "      <th>stories</th>\n",
       "      <th>parking</th>\n",
       "    </tr>\n",
       "  </thead>\n",
       "  <tbody>\n",
       "    <tr>\n",
       "      <th>0</th>\n",
       "      <td>13300000</td>\n",
       "      <td>7420</td>\n",
       "      <td>4</td>\n",
       "      <td>2</td>\n",
       "      <td>3</td>\n",
       "      <td>2</td>\n",
       "    </tr>\n",
       "    <tr>\n",
       "      <th>1</th>\n",
       "      <td>12250000</td>\n",
       "      <td>8960</td>\n",
       "      <td>4</td>\n",
       "      <td>4</td>\n",
       "      <td>4</td>\n",
       "      <td>3</td>\n",
       "    </tr>\n",
       "    <tr>\n",
       "      <th>2</th>\n",
       "      <td>12250000</td>\n",
       "      <td>9960</td>\n",
       "      <td>3</td>\n",
       "      <td>2</td>\n",
       "      <td>2</td>\n",
       "      <td>2</td>\n",
       "    </tr>\n",
       "    <tr>\n",
       "      <th>3</th>\n",
       "      <td>12215000</td>\n",
       "      <td>7500</td>\n",
       "      <td>4</td>\n",
       "      <td>2</td>\n",
       "      <td>2</td>\n",
       "      <td>3</td>\n",
       "    </tr>\n",
       "    <tr>\n",
       "      <th>4</th>\n",
       "      <td>11410000</td>\n",
       "      <td>7420</td>\n",
       "      <td>4</td>\n",
       "      <td>1</td>\n",
       "      <td>2</td>\n",
       "      <td>2</td>\n",
       "    </tr>\n",
       "    <tr>\n",
       "      <th>...</th>\n",
       "      <td>...</td>\n",
       "      <td>...</td>\n",
       "      <td>...</td>\n",
       "      <td>...</td>\n",
       "      <td>...</td>\n",
       "      <td>...</td>\n",
       "    </tr>\n",
       "    <tr>\n",
       "      <th>244</th>\n",
       "      <td>4550000</td>\n",
       "      <td>5320</td>\n",
       "      <td>3</td>\n",
       "      <td>1</td>\n",
       "      <td>2</td>\n",
       "      <td>0</td>\n",
       "    </tr>\n",
       "    <tr>\n",
       "      <th>245</th>\n",
       "      <td>4550000</td>\n",
       "      <td>5360</td>\n",
       "      <td>3</td>\n",
       "      <td>1</td>\n",
       "      <td>2</td>\n",
       "      <td>2</td>\n",
       "    </tr>\n",
       "    <tr>\n",
       "      <th>246</th>\n",
       "      <td>4550000</td>\n",
       "      <td>3520</td>\n",
       "      <td>3</td>\n",
       "      <td>1</td>\n",
       "      <td>1</td>\n",
       "      <td>0</td>\n",
       "    </tr>\n",
       "    <tr>\n",
       "      <th>247</th>\n",
       "      <td>4550000</td>\n",
       "      <td>8400</td>\n",
       "      <td>4</td>\n",
       "      <td>1</td>\n",
       "      <td>4</td>\n",
       "      <td>3</td>\n",
       "    </tr>\n",
       "    <tr>\n",
       "      <th>248</th>\n",
       "      <td>4543000</td>\n",
       "      <td>4100</td>\n",
       "      <td>2</td>\n",
       "      <td>2</td>\n",
       "      <td>1</td>\n",
       "      <td>0</td>\n",
       "    </tr>\n",
       "  </tbody>\n",
       "</table>\n",
       "<p>249 rows × 6 columns</p>\n",
       "</div>"
      ],
      "text/plain": [
       "        price  area  bedrooms  bathrooms  stories  parking\n",
       "0    13300000  7420         4          2        3        2\n",
       "1    12250000  8960         4          4        4        3\n",
       "2    12250000  9960         3          2        2        2\n",
       "3    12215000  7500         4          2        2        3\n",
       "4    11410000  7420         4          1        2        2\n",
       "..        ...   ...       ...        ...      ...      ...\n",
       "244   4550000  5320         3          1        2        0\n",
       "245   4550000  5360         3          1        2        2\n",
       "246   4550000  3520         3          1        1        0\n",
       "247   4550000  8400         4          1        4        3\n",
       "248   4543000  4100         2          2        1        0\n",
       "\n",
       "[249 rows x 6 columns]"
      ]
     },
     "execution_count": 3,
     "metadata": {},
     "output_type": "execute_result"
    }
   ],
   "source": [
    "data=data.drop([\"furnishingstatus\"],axis=1)\n",
    "data\n"
   ]
  },
  {
   "cell_type": "code",
   "execution_count": 5,
   "id": "26d76d60-cae4-43b4-a3a3-b7e7ec193592",
   "metadata": {},
   "outputs": [
    {
     "name": "stdout",
     "output_type": "stream",
     "text": [
      "[[1.00000000e+00 3.56776557e-01 5.00000000e-01 3.33333333e-01\n",
      "  6.66666667e-01 6.66666667e-01]\n",
      " [8.80095923e-01 4.69597070e-01 5.00000000e-01 1.00000000e+00\n",
      "  1.00000000e+00 1.00000000e+00]\n",
      " [8.80095923e-01 5.42857143e-01 2.50000000e-01 3.33333333e-01\n",
      "  3.33333333e-01 6.66666667e-01]\n",
      " ...\n",
      " [7.99360512e-04 7.10622711e-02 2.50000000e-01 0.00000000e+00\n",
      "  0.00000000e+00 0.00000000e+00]\n",
      " [7.99360512e-04 4.28571429e-01 5.00000000e-01 0.00000000e+00\n",
      "  1.00000000e+00 1.00000000e+00]\n",
      " [0.00000000e+00 1.13553114e-01 0.00000000e+00 3.33333333e-01\n",
      "  0.00000000e+00 0.00000000e+00]]\n"
     ]
    }
   ],
   "source": [
    "MM=preprocessing.MinMaxScaler()\n",
    "x=MM.fit_transform(data)\n",
    "print(x)\n"
   ]
  },
  {
   "cell_type": "code",
   "execution_count": 7,
   "id": "71e76b1b-d7b2-4750-ab34-ac8a7d7cbdb3",
   "metadata": {},
   "outputs": [],
   "source": [
    "Y=x[:,0]\n",
    "X=x[:,1:]\n"
   ]
  },
  {
   "cell_type": "code",
   "execution_count": 11,
   "id": "d75ea63e-40f8-44a1-8283-78b1296f93b1",
   "metadata": {},
   "outputs": [],
   "source": [
    "from sklearn.model_selection import train_test_split\n",
    "X_train,X_test,y_train,y_test=train_test_split(x[:,1:],x[:,0],test_size=0.2,random_state=0)"
   ]
  },
  {
   "cell_type": "code",
   "execution_count": 13,
   "id": "5487ff6f-5b64-4fa4-a510-b3ea41d42031",
   "metadata": {},
   "outputs": [
    {
     "data": {
      "text/html": [
       "<style>#sk-container-id-1 {color: black;background-color: white;}#sk-container-id-1 pre{padding: 0;}#sk-container-id-1 div.sk-toggleable {background-color: white;}#sk-container-id-1 label.sk-toggleable__label {cursor: pointer;display: block;width: 100%;margin-bottom: 0;padding: 0.3em;box-sizing: border-box;text-align: center;}#sk-container-id-1 label.sk-toggleable__label-arrow:before {content: \"▸\";float: left;margin-right: 0.25em;color: #696969;}#sk-container-id-1 label.sk-toggleable__label-arrow:hover:before {color: black;}#sk-container-id-1 div.sk-estimator:hover label.sk-toggleable__label-arrow:before {color: black;}#sk-container-id-1 div.sk-toggleable__content {max-height: 0;max-width: 0;overflow: hidden;text-align: left;background-color: #f0f8ff;}#sk-container-id-1 div.sk-toggleable__content pre {margin: 0.2em;color: black;border-radius: 0.25em;background-color: #f0f8ff;}#sk-container-id-1 input.sk-toggleable__control:checked~div.sk-toggleable__content {max-height: 200px;max-width: 100%;overflow: auto;}#sk-container-id-1 input.sk-toggleable__control:checked~label.sk-toggleable__label-arrow:before {content: \"▾\";}#sk-container-id-1 div.sk-estimator input.sk-toggleable__control:checked~label.sk-toggleable__label {background-color: #d4ebff;}#sk-container-id-1 div.sk-label input.sk-toggleable__control:checked~label.sk-toggleable__label {background-color: #d4ebff;}#sk-container-id-1 input.sk-hidden--visually {border: 0;clip: rect(1px 1px 1px 1px);clip: rect(1px, 1px, 1px, 1px);height: 1px;margin: -1px;overflow: hidden;padding: 0;position: absolute;width: 1px;}#sk-container-id-1 div.sk-estimator {font-family: monospace;background-color: #f0f8ff;border: 1px dotted black;border-radius: 0.25em;box-sizing: border-box;margin-bottom: 0.5em;}#sk-container-id-1 div.sk-estimator:hover {background-color: #d4ebff;}#sk-container-id-1 div.sk-parallel-item::after {content: \"\";width: 100%;border-bottom: 1px solid gray;flex-grow: 1;}#sk-container-id-1 div.sk-label:hover label.sk-toggleable__label {background-color: #d4ebff;}#sk-container-id-1 div.sk-serial::before {content: \"\";position: absolute;border-left: 1px solid gray;box-sizing: border-box;top: 0;bottom: 0;left: 50%;z-index: 0;}#sk-container-id-1 div.sk-serial {display: flex;flex-direction: column;align-items: center;background-color: white;padding-right: 0.2em;padding-left: 0.2em;position: relative;}#sk-container-id-1 div.sk-item {position: relative;z-index: 1;}#sk-container-id-1 div.sk-parallel {display: flex;align-items: stretch;justify-content: center;background-color: white;position: relative;}#sk-container-id-1 div.sk-item::before, #sk-container-id-1 div.sk-parallel-item::before {content: \"\";position: absolute;border-left: 1px solid gray;box-sizing: border-box;top: 0;bottom: 0;left: 50%;z-index: -1;}#sk-container-id-1 div.sk-parallel-item {display: flex;flex-direction: column;z-index: 1;position: relative;background-color: white;}#sk-container-id-1 div.sk-parallel-item:first-child::after {align-self: flex-end;width: 50%;}#sk-container-id-1 div.sk-parallel-item:last-child::after {align-self: flex-start;width: 50%;}#sk-container-id-1 div.sk-parallel-item:only-child::after {width: 0;}#sk-container-id-1 div.sk-dashed-wrapped {border: 1px dashed gray;margin: 0 0.4em 0.5em 0.4em;box-sizing: border-box;padding-bottom: 0.4em;background-color: white;}#sk-container-id-1 div.sk-label label {font-family: monospace;font-weight: bold;display: inline-block;line-height: 1.2em;}#sk-container-id-1 div.sk-label-container {text-align: center;}#sk-container-id-1 div.sk-container {/* jupyter's `normalize.less` sets `[hidden] { display: none; }` but bootstrap.min.css set `[hidden] { display: none !important; }` so we also need the `!important` here to be able to override the default hidden behavior on the sphinx rendered scikit-learn.org. See: https://github.com/scikit-learn/scikit-learn/issues/21755 */display: inline-block !important;position: relative;}#sk-container-id-1 div.sk-text-repr-fallback {display: none;}</style><div id=\"sk-container-id-1\" class=\"sk-top-container\"><div class=\"sk-text-repr-fallback\"><pre>DecisionTreeRegressor()</pre><b>In a Jupyter environment, please rerun this cell to show the HTML representation or trust the notebook. <br />On GitHub, the HTML representation is unable to render, please try loading this page with nbviewer.org.</b></div><div class=\"sk-container\" hidden><div class=\"sk-item\"><div class=\"sk-estimator sk-toggleable\"><input class=\"sk-toggleable__control sk-hidden--visually\" id=\"sk-estimator-id-1\" type=\"checkbox\" checked><label for=\"sk-estimator-id-1\" class=\"sk-toggleable__label sk-toggleable__label-arrow\">DecisionTreeRegressor</label><div class=\"sk-toggleable__content\"><pre>DecisionTreeRegressor()</pre></div></div></div></div></div>"
      ],
      "text/plain": [
       "DecisionTreeRegressor()"
      ]
     },
     "execution_count": 13,
     "metadata": {},
     "output_type": "execute_result"
    }
   ],
   "source": [
    "#Decision Tree Regression\n",
    "from sklearn.tree import DecisionTreeRegressor\n",
    "from sklearn.metrics import mean_squared_error\n",
    "model = DecisionTreeRegressor()\n",
    "model.fit(X_train, y_train)\n"
   ]
  },
  {
   "cell_type": "code",
   "execution_count": 15,
   "id": "f5cde661-def5-4caf-b117-61570279c959",
   "metadata": {},
   "outputs": [
    {
     "name": "stdout",
     "output_type": "stream",
     "text": [
      "[0.25659472 0.16067146 0.18864908 0.00879297 0.24860112 0.3764988\n",
      " 0.24060751 0.07673861 0.05595524 0.18465228 0.28856914 0.01278977\n",
      " 0.44764189 0.44044764 0.14468425 0.04156675 0.23820943 0.19264588\n",
      " 0.27258193 0.13669065 0.16067146 0.44764189 0.16067146 0.64028777\n",
      " 0.30189182 0.0647482  0.08073541 0.17226219 0.36051159 0.52038369\n",
      " 0.3804956  0.0567546  0.00079936 0.08073541 0.17226219 0.64028777\n",
      " 0.16866507 0.60031974 0.52038369 0.18465228 0.01278977 0.24860112\n",
      " 0.12070344 0.10071942 0.33253397 0.16067146 0.0647482  0.2166267\n",
      " 0.00479616 0.04076739]\n",
      "MSE of Decision Tree Model :  0.03534087127668858\n"
     ]
    }
   ],
   "source": [
    "predictions1 = model.predict(X_test)\n",
    "print(predictions1)\n",
    "print(\"MSE of Decision Tree Model : \",mean_squared_error(y_test,model.predict(X_test)))"
   ]
  },
  {
   "cell_type": "code",
   "execution_count": 17,
   "id": "341cdf16-c0b4-4156-80d9-af0112adb29b",
   "metadata": {},
   "outputs": [
    {
     "data": {
      "image/png": "[encoded data removed]",
      "text/plain": [
       "<Figure size 1000x500 with 1 Axes>"
      ]
     },
     "metadata": {},
     "output_type": "display_data"
    }
   ],
   "source": [
    "from sklearn.tree import plot_tree\n",
    "plt.figure(figsize=(100,50), dpi=10)\n",
    "plot_tree(model)\n",
    "plt.show()\n"
   ]
  },
  {
   "cell_type": "code",
   "execution_count": 19,
   "id": "b7bce4fa-29a6-498f-8eed-1ecee73ff853",
   "metadata": {},
   "outputs": [],
   "source": [
    "from sklearn.ensemble import GradientBoostingRegressor\n",
    "model1=GradientBoostingRegressor(n_estimators = 100,learning_rate=0.01, max_depth=3, random_state=42)"
   ]
  },
  {
   "cell_type": "code",
   "execution_count": 21,
   "id": "c986b3f0-312e-4ccf-b166-30c6adceccd2",
   "metadata": {},
   "outputs": [
    {
     "data": {
      "text/plain": [
       "array([0.16470418, 0.1291082 , 0.22779955, 0.12523543, 0.17456892,\n",
       "       0.24352225, 0.22779955, 0.13479262, 0.1238369 , 0.20009837,\n",
       "       0.17275938, 0.1185529 , 0.24352225, 0.17275938, 0.18082663,\n",
       "       0.15039984, 0.21559469, 0.216273  , 0.30894247, 0.23821676,\n",
       "       0.13117836, 0.24352225, 0.22779955, 0.37652436, 0.26836096,\n",
       "       0.11765907, 0.34250187, 0.21559469, 0.27312022, 0.26836096,\n",
       "       0.1349201 , 0.22153762, 0.11626055, 0.17275938, 0.21559469,\n",
       "       0.34671827, 0.17275938, 0.29061291, 0.26836096, 0.20009837,\n",
       "       0.11765907, 0.17456892, 0.18082663, 0.1349201 , 0.18255932,\n",
       "       0.17275938, 0.11765907, 0.1238369 , 0.15829596, 0.17275938])"
      ]
     },
     "execution_count": 21,
     "metadata": {},
     "output_type": "execute_result"
    }
   ],
   "source": [
    "model1.fit(X_train, y_train)\n",
    "predictions2=model1.predict(X_test)\n",
    "predictions2\n"
   ]
  },
  {
   "cell_type": "code",
   "execution_count": 35,
   "id": "f8d5a6b1-7ebc-4d37-807d-42d4bf70b505",
   "metadata": {},
   "outputs": [
    {
     "name": "stdout",
     "output_type": "stream",
     "text": [
      "MSE of Gradient Boosting Model :  0.017876601059993457\n"
     ]
    }
   ],
   "source": [
    "print(\"MSE of Gradient Boosting Model : \",mean_squared_error(y_test,model1.predict(X_test)))"
   ]
  },
  {
   "cell_type": "code",
   "execution_count": 41,
   "id": "eab7738e-def5-4b17-bf7a-b37397fb3057",
   "metadata": {},
   "outputs": [
    {
     "name": "stdout",
     "output_type": "stream",
     "text": [
      "Best Parameters: {'learning_rate': 0.01, 'n_estimators': 200}\n",
      "Best Cross-validation Accuracy: 0.19768203053001338\n",
      "Test Accuracy: 0.016826280135106765\n"
     ]
    }
   ],
   "source": [
    "#Hyperparameter Tuning for Gradient Boosting Regression using Grid Search\n",
    "from sklearn.model_selection import GridSearchCV\n",
    "from sklearn.metrics import accuracy_score\n",
    "param_grid1 = {\n",
    "'n_estimators':[100,150,200,300,250,350,450,400,500,1000],'learning_rate':[.01,.02,.05,.5]\n",
    "}\n",
    "grid_search = GridSearchCV(estimator=model1, param_grid=param_grid1, cv=5)\n",
    "grid_search.fit(X_train, y_train)\n",
    "best_params = grid_search.best_params_\n",
    "best_model = grid_search.best_estimator_\n",
    "Y_pred = best_model.predict(X_test)\n",
    "accuracy = mean_squared_error(y_test, Y_pred)\n",
    "print(\"Best Parameters:\", best_params)\n",
    "print(\"Best Cross-validation Accuracy:\", grid_search.best_score_)\n",
    "print(\"Test Accuracy:\", accuracy)\n"
   ]
  },
  {
   "cell_type": "code",
   "execution_count": 43,
   "id": "83eaa773-f97b-411e-9568-3e564baa9454",
   "metadata": {},
   "outputs": [
    {
     "data": {
      "text/html": [
       "<div>\n",
       "<style scoped>\n",
       "    .dataframe tbody tr th:only-of-type {\n",
       "        vertical-align: middle;\n",
       "    }\n",
       "\n",
       "    .dataframe tbody tr th {\n",
       "        vertical-align: top;\n",
       "    }\n",
       "\n",
       "    .dataframe thead th {\n",
       "        text-align: right;\n",
       "    }\n",
       "</style>\n",
       "<table border=\"1\" class=\"dataframe\">\n",
       "  <thead>\n",
       "    <tr style=\"text-align: right;\">\n",
       "      <th></th>\n",
       "      <th>Age</th>\n",
       "      <th>Total_Bilirubin</th>\n",
       "      <th>Direct_Bilirubin</th>\n",
       "      <th>Alkaline_Phosphotase</th>\n",
       "      <th>Alamine_Aminotransferase</th>\n",
       "      <th>Aspartate_Aminotransferase</th>\n",
       "      <th>Total_Protiens</th>\n",
       "      <th>Albumin</th>\n",
       "      <th>Albumin_and_Globulin_Ratio</th>\n",
       "      <th>liver_disease</th>\n",
       "    </tr>\n",
       "  </thead>\n",
       "  <tbody>\n",
       "    <tr>\n",
       "      <th>0</th>\n",
       "      <td>65</td>\n",
       "      <td>0.7</td>\n",
       "      <td>0.1</td>\n",
       "      <td>187</td>\n",
       "      <td>16</td>\n",
       "      <td>18</td>\n",
       "      <td>6.8</td>\n",
       "      <td>3.3</td>\n",
       "      <td>0.90</td>\n",
       "      <td>1</td>\n",
       "    </tr>\n",
       "    <tr>\n",
       "      <th>1</th>\n",
       "      <td>62</td>\n",
       "      <td>10.9</td>\n",
       "      <td>5.5</td>\n",
       "      <td>699</td>\n",
       "      <td>64</td>\n",
       "      <td>100</td>\n",
       "      <td>7.5</td>\n",
       "      <td>3.2</td>\n",
       "      <td>0.74</td>\n",
       "      <td>1</td>\n",
       "    </tr>\n",
       "    <tr>\n",
       "      <th>2</th>\n",
       "      <td>62</td>\n",
       "      <td>7.3</td>\n",
       "      <td>4.1</td>\n",
       "      <td>490</td>\n",
       "      <td>60</td>\n",
       "      <td>68</td>\n",
       "      <td>7.0</td>\n",
       "      <td>3.3</td>\n",
       "      <td>0.89</td>\n",
       "      <td>1</td>\n",
       "    </tr>\n",
       "    <tr>\n",
       "      <th>3</th>\n",
       "      <td>58</td>\n",
       "      <td>1.0</td>\n",
       "      <td>0.4</td>\n",
       "      <td>182</td>\n",
       "      <td>14</td>\n",
       "      <td>20</td>\n",
       "      <td>6.8</td>\n",
       "      <td>3.4</td>\n",
       "      <td>1.00</td>\n",
       "      <td>1</td>\n",
       "    </tr>\n",
       "    <tr>\n",
       "      <th>4</th>\n",
       "      <td>72</td>\n",
       "      <td>3.9</td>\n",
       "      <td>2.0</td>\n",
       "      <td>195</td>\n",
       "      <td>27</td>\n",
       "      <td>59</td>\n",
       "      <td>7.3</td>\n",
       "      <td>2.4</td>\n",
       "      <td>0.40</td>\n",
       "      <td>1</td>\n",
       "    </tr>\n",
       "    <tr>\n",
       "      <th>...</th>\n",
       "      <td>...</td>\n",
       "      <td>...</td>\n",
       "      <td>...</td>\n",
       "      <td>...</td>\n",
       "      <td>...</td>\n",
       "      <td>...</td>\n",
       "      <td>...</td>\n",
       "      <td>...</td>\n",
       "      <td>...</td>\n",
       "      <td>...</td>\n",
       "    </tr>\n",
       "    <tr>\n",
       "      <th>578</th>\n",
       "      <td>60</td>\n",
       "      <td>0.5</td>\n",
       "      <td>0.1</td>\n",
       "      <td>500</td>\n",
       "      <td>20</td>\n",
       "      <td>34</td>\n",
       "      <td>5.9</td>\n",
       "      <td>1.6</td>\n",
       "      <td>0.37</td>\n",
       "      <td>0</td>\n",
       "    </tr>\n",
       "    <tr>\n",
       "      <th>579</th>\n",
       "      <td>40</td>\n",
       "      <td>0.6</td>\n",
       "      <td>0.1</td>\n",
       "      <td>98</td>\n",
       "      <td>35</td>\n",
       "      <td>31</td>\n",
       "      <td>6.0</td>\n",
       "      <td>3.2</td>\n",
       "      <td>1.10</td>\n",
       "      <td>1</td>\n",
       "    </tr>\n",
       "    <tr>\n",
       "      <th>580</th>\n",
       "      <td>52</td>\n",
       "      <td>0.8</td>\n",
       "      <td>0.2</td>\n",
       "      <td>245</td>\n",
       "      <td>48</td>\n",
       "      <td>49</td>\n",
       "      <td>6.4</td>\n",
       "      <td>3.2</td>\n",
       "      <td>1.00</td>\n",
       "      <td>1</td>\n",
       "    </tr>\n",
       "    <tr>\n",
       "      <th>581</th>\n",
       "      <td>31</td>\n",
       "      <td>1.3</td>\n",
       "      <td>0.5</td>\n",
       "      <td>184</td>\n",
       "      <td>29</td>\n",
       "      <td>32</td>\n",
       "      <td>6.8</td>\n",
       "      <td>3.4</td>\n",
       "      <td>1.00</td>\n",
       "      <td>1</td>\n",
       "    </tr>\n",
       "    <tr>\n",
       "      <th>582</th>\n",
       "      <td>38</td>\n",
       "      <td>1.0</td>\n",
       "      <td>0.3</td>\n",
       "      <td>216</td>\n",
       "      <td>21</td>\n",
       "      <td>24</td>\n",
       "      <td>7.3</td>\n",
       "      <td>4.4</td>\n",
       "      <td>1.50</td>\n",
       "      <td>0</td>\n",
       "    </tr>\n",
       "  </tbody>\n",
       "</table>\n",
       "<p>583 rows × 10 columns</p>\n",
       "</div>"
      ],
      "text/plain": [
       "     Age  Total_Bilirubin  Direct_Bilirubin  Alkaline_Phosphotase  \\\n",
       "0     65              0.7               0.1                   187   \n",
       "1     62             10.9               5.5                   699   \n",
       "2     62              7.3               4.1                   490   \n",
       "3     58              1.0               0.4                   182   \n",
       "4     72              3.9               2.0                   195   \n",
       "..   ...              ...               ...                   ...   \n",
       "578   60              0.5               0.1                   500   \n",
       "579   40              0.6               0.1                    98   \n",
       "580   52              0.8               0.2                   245   \n",
       "581   31              1.3               0.5                   184   \n",
       "582   38              1.0               0.3                   216   \n",
       "\n",
       "     Alamine_Aminotransferase  Aspartate_Aminotransferase  Total_Protiens  \\\n",
       "0                          16                          18             6.8   \n",
       "1                          64                         100             7.5   \n",
       "2                          60                          68             7.0   \n",
       "3                          14                          20             6.8   \n",
       "4                          27                          59             7.3   \n",
       "..                        ...                         ...             ...   \n",
       "578                        20                          34             5.9   \n",
       "579                        35                          31             6.0   \n",
       "580                        48                          49             6.4   \n",
       "581                        29                          32             6.8   \n",
       "582                        21                          24             7.3   \n",
       "\n",
       "     Albumin  Albumin_and_Globulin_Ratio  liver_disease  \n",
       "0        3.3                        0.90              1  \n",
       "1        3.2                        0.74              1  \n",
       "2        3.3                        0.89              1  \n",
       "3        3.4                        1.00              1  \n",
       "4        2.4                        0.40              1  \n",
       "..       ...                         ...            ...  \n",
       "578      1.6                        0.37              0  \n",
       "579      3.2                        1.10              1  \n",
       "580      3.2                        1.00              1  \n",
       "581      3.4                        1.00              1  \n",
       "582      4.4                        1.50              0  \n",
       "\n",
       "[583 rows x 10 columns]"
      ]
     },
     "execution_count": 43,
     "metadata": {},
     "output_type": "execute_result"
    }
   ],
   "source": [
    "#Question No: 2\n",
    "#Decision Tree Classifier\n",
    "from sklearn.tree import DecisionTreeClassifier\n",
    "from sklearn.metrics import accuracy_score\n",
    "data1 = pd.read_csv('liver_patient.csv')\n",
    "data1.drop('Gender', axis=1, inplace=True)\n",
    "data1\n"
   ]
  },
  {
   "cell_type": "code",
   "execution_count": 45,
   "id": "79504e13-c15c-45c1-a487-4eb5be2bc882",
   "metadata": {},
   "outputs": [],
   "source": [
    "scaler = preprocessing.MinMaxScaler()\n",
    "x1 = scaler.fit_transform(data1)\n",
    "X1 = x1[:, 0:9]\n",
    "Y1 = x1[:, 9]\n",
    "X_train1, X_test1, Y_train1, Y_test1 = train_test_split(X1, Y1, test_size=0.2, random_state=42)"
   ]
  },
  {
   "cell_type": "code",
   "execution_count": 47,
   "id": "61323f07-cb16-442b-874f-0c7733b3fc83",
   "metadata": {},
   "outputs": [
    {
     "name": "stdout",
     "output_type": "stream",
     "text": [
      "[0. 1. 1. 0. 1. 1. 0. 1. 0. 1. 0. 1. 0. 0. 1. 1. 1. 1. 0. 1. 1. 0. 1. 1.\n",
      " 1. 1. 1. 0. 1. 0. 1. 1. 0. 0. 1. 1. 1. 0. 0. 1. 1. 0. 1. 1. 0. 1. 0. 0.\n",
      " 0. 1. 1. 1. 1. 1. 1. 0. 0. 0. 1. 1. 1. 1. 0. 1. 1. 1. 1. 1. 1. 1. 0. 1.\n",
      " 1. 0. 1. 1. 0. 0. 0. 1. 0. 1. 0. 1. 0. 0. 1. 1. 1. 1. 1. 1. 1. 1. 1. 1.\n",
      " 1. 1. 1. 1. 0. 1. 1. 1. 0. 1. 1. 1. 1. 1. 1. 1. 0. 1. 1. 0. 0.]\n",
      "Decision Tree Classifier Accuracy :  0.7094017094017094\n"
     ]
    }
   ],
   "source": [
    "model2 = DecisionTreeClassifier()\n",
    "model2.fit(X_train1, Y_train1)\n",
    "predictions3=model2.predict(X_test1)\n",
    "print(predictions3)\n",
    "print(\"Decision Tree Classifier Accuracy : \",accuracy_score(Y_test1, predictions3))"
   ]
  },
  {
   "cell_type": "code",
   "execution_count": 49,
   "id": "5be93d98-7b9f-416a-8f05-aeb030e889d9",
   "metadata": {},
   "outputs": [
    {
     "data": {
      "image/png": "[encoded data removed]",
      "text/plain": [
       "<Figure size 1000x500 with 1 Axes>"
      ]
     },
     "metadata": {},
     "output_type": "display_data"
    }
   ],
   "source": [
    "plt.figure(figsize=(100,50), dpi=10)\n",
    "plot_tree(model)\n",
    "plt.show()\n"
   ]
  },
  {
   "cell_type": "code",
   "execution_count": 51,
   "id": "1f35f631-65bc-41c5-bc4e-b859ccb54e07",
   "metadata": {},
   "outputs": [
    {
     "name": "stdout",
     "output_type": "stream",
     "text": [
      "[1. 1. 1. 1. 1. 1. 1. 1. 1. 1. 1. 1. 1. 1. 1. 1. 1. 1. 1. 1. 1. 1. 1. 1.\n",
      " 1. 1. 1. 1. 1. 1. 1. 1. 1. 1. 1. 1. 1. 1. 1. 1. 1. 1. 1. 1. 1. 1. 1. 1.\n",
      " 1. 1. 1. 1. 1. 1. 1. 1. 1. 1. 1. 1. 1. 1. 1. 1. 1. 0. 1. 1. 1. 1. 1. 1.\n",
      " 1. 1. 1. 1. 1. 1. 1. 1. 1. 1. 1. 1. 1. 1. 1. 1. 1. 1. 1. 1. 1. 1. 1. 1.\n",
      " 1. 1. 1. 1. 1. 1. 1. 1. 1. 1. 1. 1. 1. 1. 1. 1. 1. 1. 1. 1. 1.]\n",
      "Gradient Boosting Classifier Accuracy :  0.7350427350427351\n"
     ]
    }
   ],
   "source": [
    "#Gradient Boosting Classifier\n",
    "from sklearn.ensemble import GradientBoostingClassifier\n",
    "model3=GradientBoostingClassifier(n_estimators = 100,learning_rate=0.01, max_depth=3, random_state=42)\n",
    "model3.fit(X_train1, Y_train1)\n",
    "predictions4=model3.predict(X_test1)\n",
    "print(predictions4)\n",
    "print(\"Gradient Boosting Classifier Accuracy : \",accuracy_score(Y_test1, predictions4))"
   ]
  },
  {
   "cell_type": "code",
   "execution_count": 55,
   "id": "569b4081-8120-4532-a783-eb27b0b8a043",
   "metadata": {},
   "outputs": [
    {
     "name": "stdout",
     "output_type": "stream",
     "text": [
      "Best Parameters: {'learning_rate': 0.01, 'n_estimators': 100}\n",
      "Best Cross-validation Accuracy: 0.7059940517044155\n",
      "Test Accuracy: 0.7350427350427351\n"
     ]
    }
   ],
   "source": [
    "#Hyperparameter Tuning for Gradient Boosting Classifier using Grid Search\n",
    "param_grid2 = {\n",
    "'n_estimators':[100,150,200,300,250,350,450,400,500,1000],'learning_rate':[.01,.02,.05,.5]\n",
    "}\n",
    "grid_search = GridSearchCV(estimator=model3, param_grid=param_grid2, cv=5, scoring='accuracy')\n",
    "grid_search.fit(X_train1, Y_train1)\n",
    "best_params = grid_search.best_params_\n",
    "best_model = grid_search.best_estimator_\n",
    "Y_pred1 = best_model.predict(X_test1)\n",
    "accuracy = accuracy_score(Y_test1, Y_pred1)\n",
    "print(\"Best Parameters:\", best_params)\n",
    "print(\"Best Cross-validation Accuracy:\", grid_search.best_score_)\n",
    "print(\"Test Accuracy:\", accuracy)\n"
   ]
  },
  {
   "cell_type": "code",
   "execution_count": 57,
   "id": "19bb9dba-6808-4ea7-8ba6-64151bb61210",
   "metadata": {},
   "outputs": [
    {
     "name": "stdout",
     "output_type": "stream",
     "text": [
      "[1.00000000e-02 1.14975700e-02 1.32194115e-02 1.51991108e-02\n",
      " 1.74752840e-02 2.00923300e-02 2.31012970e-02 2.65608778e-02\n",
      " 3.05385551e-02 3.51119173e-02 4.03701726e-02 4.64158883e-02\n",
      " 5.33669923e-02 6.13590727e-02 7.05480231e-02 8.11130831e-02\n",
      " 9.32603347e-02 1.07226722e-01 1.23284674e-01 1.41747416e-01\n",
      " 1.62975083e-01 1.87381742e-01 2.15443469e-01 2.47707636e-01\n",
      " 2.84803587e-01 3.27454916e-01 3.76493581e-01 4.32876128e-01\n",
      " 4.97702356e-01 5.72236766e-01 6.57933225e-01 7.56463328e-01\n",
      " 8.69749003e-01 1.00000000e+00 1.14975700e+00 1.32194115e+00\n",
      " 1.51991108e+00 1.74752840e+00 2.00923300e+00 2.31012970e+00\n",
      " 2.65608778e+00 3.05385551e+00 3.51119173e+00 4.03701726e+00\n",
      " 4.64158883e+00 5.33669923e+00 6.13590727e+00 7.05480231e+00\n",
      " 8.11130831e+00 9.32603347e+00 1.07226722e+01 1.23284674e+01\n",
      " 1.41747416e+01 1.62975083e+01 1.87381742e+01 2.15443469e+01\n",
      " 2.47707636e+01 2.84803587e+01 3.27454916e+01 3.76493581e+01\n",
      " 4.32876128e+01 4.97702356e+01 5.72236766e+01 6.57933225e+01\n",
      " 7.56463328e+01 8.69749003e+01 1.00000000e+02 1.14975700e+02\n",
      " 1.32194115e+02 1.51991108e+02 1.74752840e+02 2.00923300e+02\n",
      " 2.31012970e+02 2.65608778e+02 3.05385551e+02 3.51119173e+02\n",
      " 4.03701726e+02 4.64158883e+02 5.33669923e+02 6.13590727e+02\n",
      " 7.05480231e+02 8.11130831e+02 9.32603347e+02 1.07226722e+03\n",
      " 1.23284674e+03 1.41747416e+03 1.62975083e+03 1.87381742e+03\n",
      " 2.15443469e+03 2.47707636e+03 2.84803587e+03 3.27454916e+03\n",
      " 3.76493581e+03 4.32876128e+03 4.97702356e+03 5.72236766e+03\n",
      " 6.57933225e+03 7.56463328e+03 8.69749003e+03 1.00000000e+04]\n"
     ]
    }
   ],
   "source": [
    "#Question No: 3\n",
    "#Define alpha values for tuning\n",
    "alpha_values=np.logspace(-2,4,100) #10 values from 10^-2 to 10^4\n",
    "print(alpha_values)"
   ]
  },
  {
   "cell_type": "code",
   "execution_count": 59,
   "id": "338aa68f-6d9b-4cc1-b3ff-d27c12d1e21a",
   "metadata": {},
   "outputs": [
    {
     "name": "stdout",
     "output_type": "stream",
     "text": [
      "Best Ridge Alpha :  0.49770235643321115\n",
      "Ridge Regression MSE :  0.019544354076967984\n",
      "Ridge Coefficients :  [0.2916599  0.0894537  0.30197724 0.13122731 0.14923577]\n"
     ]
    }
   ],
   "source": [
    "#Ridge Regression with RidgeCV\n",
    "from sklearn.linear_model import RidgeCV\n",
    "ridge_cv=RidgeCV(alphas=alpha_values, store_cv_values=True)\n",
    "ridge_cv.fit(X_train,y_train)\n",
    "ridge_pred=ridge_cv.predict(X_test)\n",
    "print(\"Best Ridge Alpha : \", ridge_cv.alpha_)\n",
    "print(\"Ridge Regression MSE : \", mean_squared_error(y_test, ridge_pred) )\n",
    "print(\"Ridge Coefficients : \", ridge_cv.coef_)\n"
   ]
  },
  {
   "cell_type": "code",
   "execution_count": 61,
   "id": "99e1911a-4d04-4705-b835-fa7729b759e3",
   "metadata": {},
   "outputs": [
    {
     "name": "stdout",
     "output_type": "stream",
     "text": [
      "Best Lasso Alpha :  0.01\n",
      "Lasso Regression MSE :  0.01991781625293486\n",
      "Lasso Coefficients :  [0.         0.         0.13504156 0.07345709 0.07836195]\n"
     ]
    }
   ],
   "source": [
    "#Lasso Regression with LassoCV\n",
    "from sklearn.linear_model import LassoCV\n",
    "lasso_cv=LassoCV(alphas=alpha_values, cv=5, random_state=0)\n",
    "lasso_cv.fit(X_train,y_train)\n",
    "lasso_pred=lasso_cv.predict(X_test)\n",
    "print(\"Best Lasso Alpha : \", lasso_cv.alpha_)\n",
    "print(\"Lasso Regression MSE : \", mean_squared_error(y_test, lasso_pred) )\n",
    "print(\"Lasso Coefficients : \", lasso_cv.coef_)\n"
   ]
  },
  {
   "cell_type": "code",
   "execution_count": null,
   "id": "44fbff62-1607-45f6-8397-9b27a38e7b12",
   "metadata": {},
   "outputs": [],
   "source": []
  }
 ],
 "metadata": {
  "kernelspec": {
   "display_name": "Python 3 (ipykernel)",
   "language": "python",
   "name": "python3"
  },
  "language_info": {
   "codemirror_mode": {
    "name": "ipython",
    "version": 3
   },
   "file_extension": ".py",
   "mimetype": "text/x-python",
   "name": "python",
   "nbconvert_exporter": "python",
   "pygments_lexer": "ipython3",
   "version": "3.11.7"
  }
 },
 "nbformat": 4,
 "nbformat_minor": 5
}
